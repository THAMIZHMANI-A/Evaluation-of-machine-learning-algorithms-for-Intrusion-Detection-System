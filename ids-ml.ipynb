{
 "cells": [
  {
   "cell_type": "markdown",
   "metadata": {
    "id": "2Us5Gj3JvdIM"
   },
   "source": [
    "# ***Network Intrusion Detection System Using Machine Learning***\n",
    "\n",
    "---\n",
    "\n",
    "\n",
    "\n",
    "---\n",
    "\n",
    "\n",
    "\n"
   ]
  },
  {
   "cell_type": "code",
   "execution_count": 2,
   "metadata": {
    "execution": {
     "iopub.execute_input": "2021-05-25T16:50:34.015651Z",
     "iopub.status.busy": "2021-05-25T16:50:34.015321Z",
     "iopub.status.idle": "2021-05-25T16:50:34.023676Z",
     "shell.execute_reply": "2021-05-25T16:50:34.022861Z",
     "shell.execute_reply.started": "2021-05-25T16:50:34.015625Z"
    }
   },
   "outputs": [
    {
     "name": "stdout",
     "output_type": "stream",
     "text": [
      "/kaggle/input/network-detection/Train.txt\n",
      "/kaggle/input/datadata/KDDTest.txt\n"
     ]
    }
   ],
   "source": [
    "# This Python 3 environment comes with many helpful analytics libraries installed\n",
    "# It is defined by the kaggle/python Docker image: https://github.com/kaggle/docker-python\n",
    "# For example, here's several helpful packages to load\n",
    "\n",
    "import numpy as np # linear algebra\n",
    "import pandas as pd # data processing, CSV file I/O (e.g. pd.read_csv)\n",
    "\n",
    "# Input data files are available in the read-only \"../input/\" directory\n",
    "# For example, running this (by clicking run or pressing Shift+Enter) will list all files under the input directory\n",
    "\n",
    "import os\n",
    "for dirname, _, filenames in os.walk('/kaggle/input'):\n",
    "    for filename in filenames:\n",
    "        print(os.path.join(dirname, filename))\n",
    "\n",
    "# You can write up to 20GB to the current directory (/kaggle/working/) that gets preserved as output when you create a version using \"Save & Run All\" \n",
    "# You can also write temporary files to /kaggle/temp/, but they won't be saved outside of the current session"
   ]
  },
  {
   "cell_type": "markdown",
   "metadata": {
    "id": "IhUCBik1vS9L"
   },
   "source": [
    "# Import Relevant Modules "
   ]
  },
  {
   "cell_type": "code",
   "execution_count": 3,
   "metadata": {
    "execution": {
     "iopub.execute_input": "2021-05-25T16:50:41.784196Z",
     "iopub.status.busy": "2021-05-25T16:50:41.783818Z",
     "iopub.status.idle": "2021-05-25T16:50:50.192931Z",
     "shell.execute_reply": "2021-05-25T16:50:50.192105Z",
     "shell.execute_reply.started": "2021-05-25T16:50:41.784167Z"
    },
    "id": "PtH15eL2-ed_",
    "outputId": "b7cd1149-1cc0-4ba0-ae54-256ca58847b5"
   },
   "outputs": [
    {
     "name": "stdout",
     "output_type": "stream",
     "text": [
      "Collecting pygam\n",
      "  Downloading pygam-0.8.0-py2.py3-none-any.whl (1.8 MB)\n",
      "\u001b[K     |████████████████████████████████| 1.8 MB 1.2 MB/s eta 0:00:01\n",
      "\u001b[?25hCollecting progressbar2\n",
      "  Downloading progressbar2-3.53.1-py2.py3-none-any.whl (25 kB)\n",
      "Requirement already satisfied: numpy in /opt/conda/lib/python3.7/site-packages (from pygam) (1.19.5)\n",
      "Requirement already satisfied: future in /opt/conda/lib/python3.7/site-packages (from pygam) (0.18.2)\n",
      "Requirement already satisfied: scipy in /opt/conda/lib/python3.7/site-packages (from pygam) (1.5.4)\n",
      "Collecting python-utils>=2.3.0\n",
      "  Downloading python_utils-2.5.6-py2.py3-none-any.whl (12 kB)\n",
      "Requirement already satisfied: six in /opt/conda/lib/python3.7/site-packages (from progressbar2->pygam) (1.15.0)\n",
      "Installing collected packages: python-utils, progressbar2, pygam\n",
      "Successfully installed progressbar2-3.53.1 pygam-0.8.0 python-utils-2.5.6\n"
     ]
    }
   ],
   "source": [
    "! pip install pygam\n"
   ]
  },
  {
   "cell_type": "code",
   "execution_count": 4,
   "metadata": {
    "execution": {
     "iopub.execute_input": "2021-05-25T16:50:55.044050Z",
     "iopub.status.busy": "2021-05-25T16:50:55.043687Z",
     "iopub.status.idle": "2021-05-25T16:51:01.219339Z",
     "shell.execute_reply": "2021-05-25T16:51:01.218417Z",
     "shell.execute_reply.started": "2021-05-25T16:50:55.044018Z"
    },
    "id": "XaD-tVTkRvNy",
    "outputId": "f0a9cc80-2d62-4f74-f616-f2fcc584081c"
   },
   "outputs": [
    {
     "name": "stdout",
     "output_type": "stream",
     "text": [
      "Collecting ipython-autotime\n",
      "  Downloading ipython_autotime-0.3.1-py2.py3-none-any.whl (6.8 kB)\n",
      "Requirement already satisfied: ipython in /opt/conda/lib/python3.7/site-packages (from ipython-autotime) (7.20.0)\n",
      "Requirement already satisfied: traitlets>=4.2 in /opt/conda/lib/python3.7/site-packages (from ipython->ipython-autotime) (5.0.5)\n",
      "Requirement already satisfied: backcall in /opt/conda/lib/python3.7/site-packages (from ipython->ipython-autotime) (0.2.0)\n",
      "Requirement already satisfied: jedi>=0.16 in /opt/conda/lib/python3.7/site-packages (from ipython->ipython-autotime) (0.17.2)\n",
      "Requirement already satisfied: decorator in /opt/conda/lib/python3.7/site-packages (from ipython->ipython-autotime) (4.4.2)\n",
      "Requirement already satisfied: pickleshare in /opt/conda/lib/python3.7/site-packages (from ipython->ipython-autotime) (0.7.5)\n",
      "Requirement already satisfied: pygments in /opt/conda/lib/python3.7/site-packages (from ipython->ipython-autotime) (2.8.0)\n",
      "Requirement already satisfied: setuptools>=18.5 in /opt/conda/lib/python3.7/site-packages (from ipython->ipython-autotime) (49.6.0.post20210108)\n",
      "Requirement already satisfied: prompt-toolkit!=3.0.0,!=3.0.1,<3.1.0,>=2.0.0 in /opt/conda/lib/python3.7/site-packages (from ipython->ipython-autotime) (3.0.16)\n",
      "Requirement already satisfied: pexpect>4.3 in /opt/conda/lib/python3.7/site-packages (from ipython->ipython-autotime) (4.8.0)\n",
      "Requirement already satisfied: parso<0.8.0,>=0.7.0 in /opt/conda/lib/python3.7/site-packages (from jedi>=0.16->ipython->ipython-autotime) (0.7.1)\n",
      "Requirement already satisfied: ptyprocess>=0.5 in /opt/conda/lib/python3.7/site-packages (from pexpect>4.3->ipython->ipython-autotime) (0.7.0)\n",
      "Requirement already satisfied: wcwidth in /opt/conda/lib/python3.7/site-packages (from prompt-toolkit!=3.0.0,!=3.0.1,<3.1.0,>=2.0.0->ipython->ipython-autotime) (0.2.5)\n",
      "Requirement already satisfied: ipython-genutils in /opt/conda/lib/python3.7/site-packages (from traitlets>=4.2->ipython->ipython-autotime) (0.2.0)\n",
      "Installing collected packages: ipython-autotime\n",
      "Successfully installed ipython-autotime-0.3.1\n",
      "time: 551 µs (started: 2021-05-25 16:51:01 +00:00)\n"
     ]
    }
   ],
   "source": [
    "!pip install ipython-autotime\n",
    "\n",
    "%load_ext autotime"
   ]
  },
  {
   "cell_type": "code",
   "execution_count": 5,
   "metadata": {
    "execution": {
     "iopub.execute_input": "2021-05-25T16:51:10.185697Z",
     "iopub.status.busy": "2021-05-25T16:51:10.185258Z",
     "iopub.status.idle": "2021-05-25T16:51:11.644682Z",
     "shell.execute_reply": "2021-05-25T16:51:11.643750Z",
     "shell.execute_reply.started": "2021-05-25T16:51:10.185659Z"
    },
    "id": "0KH58xMCE503",
    "outputId": "0daab1e6-2e1b-4f58-91a8-a0a8028e55ec"
   },
   "outputs": [
    {
     "name": "stdout",
     "output_type": "stream",
     "text": [
      "time: 1.45 s (started: 2021-05-25 16:51:10 +00:00)\n"
     ]
    }
   ],
   "source": [
    "%matplotlib inline\n",
    "import matplotlib\n",
    "import matplotlib.pyplot as plt\n",
    "from mlxtend.plotting import plot_confusion_matrix\n",
    "import pandas as pd\n",
    "import numpy as np\n",
    "import seaborn as sns\n",
    "import sklearn\n",
    "import imblearn"
   ]
  },
  {
   "cell_type": "code",
   "execution_count": 6,
   "metadata": {
    "execution": {
     "iopub.execute_input": "2021-05-25T16:51:15.174325Z",
     "iopub.status.busy": "2021-05-25T16:51:15.173734Z",
     "iopub.status.idle": "2021-05-25T16:51:15.180631Z",
     "shell.execute_reply": "2021-05-25T16:51:15.179785Z",
     "shell.execute_reply.started": "2021-05-25T16:51:15.174279Z"
    },
    "id": "9iSie7jtjoy6",
    "outputId": "b709329e-16d8-4a19-e414-922bc37a2bb8"
   },
   "outputs": [
    {
     "name": "stdout",
     "output_type": "stream",
     "text": [
      "time: 747 µs (started: 2021-05-25 16:51:15 +00:00)\n"
     ]
    }
   ],
   "source": [
    "import warnings\n",
    "warnings.filterwarnings('ignore')"
   ]
  },
  {
   "cell_type": "code",
   "execution_count": 7,
   "metadata": {
    "execution": {
     "iopub.execute_input": "2021-05-25T16:51:19.123881Z",
     "iopub.status.busy": "2021-05-25T16:51:19.123442Z",
     "iopub.status.idle": "2021-05-25T16:51:19.129394Z",
     "shell.execute_reply": "2021-05-25T16:51:19.128791Z",
     "shell.execute_reply.started": "2021-05-25T16:51:19.123821Z"
    },
    "id": "A9w_xmRKFI5k",
    "outputId": "13dee004-6856-4698-c83f-e49764db8350"
   },
   "outputs": [
    {
     "name": "stdout",
     "output_type": "stream",
     "text": [
      "pandas : 1.2.2\n",
      "numpy : 1.19.5\n",
      "matplotlib : 3.4.0\n",
      "seaborn : 0.11.1\n",
      "sklearn : 0.24.1\n",
      "imblearn : 0.8.0\n",
      "time: 1.86 ms (started: 2021-05-25 16:51:19 +00:00)\n"
     ]
    }
   ],
   "source": [
    "# Libraries\n",
    "\n",
    "print(\"pandas : {0}\".format(pd.__version__))\n",
    "print(\"numpy : {0}\".format(np.__version__))\n",
    "print(\"matplotlib : {0}\".format(matplotlib.__version__))\n",
    "print(\"seaborn : {0}\".format(sns.__version__))\n",
    "print(\"sklearn : {0}\".format(sklearn.__version__))\n",
    "print(\"imblearn : {0}\".format(imblearn.__version__))"
   ]
  },
  {
   "cell_type": "markdown",
   "metadata": {
    "id": "FAmgWdSHwA8C"
   },
   "source": [
    "# Loading Training And Testing Data"
   ]
  },
  {
   "cell_type": "code",
   "execution_count": 8,
   "metadata": {
    "execution": {
     "iopub.execute_input": "2021-05-25T16:51:23.274243Z",
     "iopub.status.busy": "2021-05-25T16:51:23.273718Z",
     "iopub.status.idle": "2021-05-25T16:51:23.279923Z",
     "shell.execute_reply": "2021-05-25T16:51:23.279263Z",
     "shell.execute_reply.started": "2021-05-25T16:51:23.274211Z"
    },
    "id": "BLIlBURuFIx9",
    "outputId": "971608ac-72b6-44cd-ce6f-4ac9f4a89057"
   },
   "outputs": [
    {
     "name": "stdout",
     "output_type": "stream",
     "text": [
      "time: 562 µs (started: 2021-05-25 16:51:23 +00:00)\n"
     ]
    }
   ],
   "source": [
    "# Dataset field names\n",
    "\n",
    "field_names = [\"duration\",\"protocol_type\",\"service\",\"flag\",\"src_bytes\",\n",
    "    \"dst_bytes\",\"land\",\"wrong_fragment\",\"urgent\",\"hot\",\"num_failed_logins\",\n",
    "    \"logged_in\",\"num_compromised\",\"root_shell\",\"su_attempted\",\"num_root\",\n",
    "    \"num_file_creations\",\"num_shells\",\"num_access_files\",\"num_outbound_cmds\",\n",
    "    \"is_host_login\",\"is_guest_login\",\"count\",\"srv_count\",\"serror_rate\",\n",
    "    \"srv_serror_rate\",\"rerror_rate\",\"srv_rerror_rate\",\"same_srv_rate\",\n",
    "    \"diff_srv_rate\",\"srv_diff_host_rate\",\"dst_host_count\",\"dst_host_srv_count\",\n",
    "    \"dst_host_same_srv_rate\",\"dst_host_diff_srv_rate\",\"dst_host_same_src_port_rate\",\n",
    "    \"dst_host_srv_diff_host_rate\",\"dst_host_serror_rate\",\"dst_host_srv_serror_rate\",\n",
    "    \"dst_host_rerror_rate\",\"dst_host_srv_rerror_rate\",\"attack\", \"last_flag\"]"
   ]
  },
  {
   "cell_type": "code",
   "execution_count": 9,
   "metadata": {
    "execution": {
     "iopub.execute_input": "2021-05-25T16:52:27.794378Z",
     "iopub.status.busy": "2021-05-25T16:52:27.794024Z",
     "iopub.status.idle": "2021-05-25T16:52:28.642330Z",
     "shell.execute_reply": "2021-05-25T16:52:28.641330Z",
     "shell.execute_reply.started": "2021-05-25T16:52:27.794349Z"
    },
    "id": "GAa4b9WEFIt4",
    "outputId": "fd9a9af7-137d-4800-d58c-d56b3bcc1842"
   },
   "outputs": [
    {
     "name": "stdout",
     "output_type": "stream",
     "text": [
      "time: 843 ms (started: 2021-05-25 16:52:27 +00:00)\n"
     ]
    }
   ],
   "source": [
    "# Loading Train Dataset\n",
    "train_data = pd.read_table('../input/network-detection/Train.txt', sep=\",\", names=field_names)\n",
    "# Removes an unwanted extra field\n",
    "train_data = train_data.iloc[:,:-1] \n",
    "\n",
    "# Loading Test Dataset\n",
    "test_data = pd.read_table('../input/datadata/KDDTest.txt', sep=\",\", names=field_names)\n",
    "# Removes an unwanted extra field\n",
    "test_data = test_data.iloc[:,:-1]"
   ]
  },
  {
   "cell_type": "code",
   "execution_count": 10,
   "metadata": {
    "execution": {
     "iopub.execute_input": "2021-05-25T16:52:32.444204Z",
     "iopub.status.busy": "2021-05-25T16:52:32.443900Z",
     "iopub.status.idle": "2021-05-25T16:52:34.145791Z",
     "shell.execute_reply": "2021-05-25T16:52:34.144654Z",
     "shell.execute_reply.started": "2021-05-25T16:52:32.444180Z"
    },
    "id": "mab7PPJ81Ry9",
    "outputId": "7782eee8-8504-4668-fb5f-21a943f14d83"
   },
   "outputs": [
    {
     "data": {
      "image/png": "[encoded data removed]",
      "text/plain": [
       "<Figure size 720x360 with 2 Axes>"
      ]
     },
     "metadata": {
      "needs_background": "light"
     },
     "output_type": "display_data"
    },
    {
     "name": "stdout",
     "output_type": "stream",
     "text": [
      "time: 1.7 s (started: 2021-05-25 16:52:32 +00:00)\n"
     ]
    }
   ],
   "source": [
    "data = pd.read_table('../input/network-detection/Train.txt', sep=\",\", names=field_names)\n",
    "\n",
    "corr = data.corr()\n",
    "\n",
    "mask = np.zeros_like(corr)\n",
    "mask[np.triu_indices_from(mask)] = True\n",
    "\n",
    "fig = plt.figure(figsize = (10, 5))\n",
    "\n",
    "ax = sns.heatmap(corr, \n",
    "                 mask = mask, \n",
    "                 vmax = 0.3, \n",
    "                 square = True,  \n",
    "                 cmap = \"viridis\")\n",
    "\n",
    "ax.set_title(\"Heatmap using seaborn\");"
   ]
  },
  {
   "cell_type": "markdown",
   "metadata": {
    "id": "bn3bWoNkyBuf"
   },
   "source": [
    "# Preview of Training And Testing Data"
   ]
  },
  {
   "cell_type": "code",
   "execution_count": 11,
   "metadata": {
    "execution": {
     "iopub.execute_input": "2021-05-25T16:52:40.845184Z",
     "iopub.status.busy": "2021-05-25T16:52:40.844617Z",
     "iopub.status.idle": "2021-05-25T16:52:40.874357Z",
     "shell.execute_reply": "2021-05-25T16:52:40.873714Z",
     "shell.execute_reply.started": "2021-05-25T16:52:40.845151Z"
    },
    "id": "EV4svi1LFIs5",
    "outputId": "2d65ef41-2795-4f96-f349-4b163862a62a"
   },
   "outputs": [
    {
     "data": {
      "text/html": [
       "<div>\n",
       "<style scoped>\n",
       "    .dataframe tbody tr th:only-of-type {\n",
       "        vertical-align: middle;\n",
       "    }\n",
       "\n",
       "    .dataframe tbody tr th {\n",
       "        vertical-align: top;\n",
       "    }\n",
       "\n",
       "    .dataframe thead th {\n",
       "        text-align: right;\n",
       "    }\n",
       "</style>\n",
       "<table border=\"1\" class=\"dataframe\">\n",
       "  <thead>\n",
       "    <tr style=\"text-align: right;\">\n",
       "      <th></th>\n",
       "      <th>duration</th>\n",
       "      <th>protocol_type</th>\n",
       "      <th>service</th>\n",
       "      <th>flag</th>\n",
       "      <th>src_bytes</th>\n",
       "      <th>dst_bytes</th>\n",
       "      <th>land</th>\n",
       "      <th>wrong_fragment</th>\n",
       "      <th>urgent</th>\n",
       "      <th>hot</th>\n",
       "      <th>...</th>\n",
       "      <th>dst_host_srv_count</th>\n",
       "      <th>dst_host_same_srv_rate</th>\n",
       "      <th>dst_host_diff_srv_rate</th>\n",
       "      <th>dst_host_same_src_port_rate</th>\n",
       "      <th>dst_host_srv_diff_host_rate</th>\n",
       "      <th>dst_host_serror_rate</th>\n",
       "      <th>dst_host_srv_serror_rate</th>\n",
       "      <th>dst_host_rerror_rate</th>\n",
       "      <th>dst_host_srv_rerror_rate</th>\n",
       "      <th>attack</th>\n",
       "    </tr>\n",
       "  </thead>\n",
       "  <tbody>\n",
       "    <tr>\n",
       "      <th>0</th>\n",
       "      <td>0</td>\n",
       "      <td>tcp</td>\n",
       "      <td>ftp_data</td>\n",
       "      <td>SF</td>\n",
       "      <td>491</td>\n",
       "      <td>0</td>\n",
       "      <td>0</td>\n",
       "      <td>0</td>\n",
       "      <td>0</td>\n",
       "      <td>0</td>\n",
       "      <td>...</td>\n",
       "      <td>25</td>\n",
       "      <td>0.17</td>\n",
       "      <td>0.03</td>\n",
       "      <td>0.17</td>\n",
       "      <td>0.00</td>\n",
       "      <td>0.00</td>\n",
       "      <td>0.00</td>\n",
       "      <td>0.05</td>\n",
       "      <td>0.00</td>\n",
       "      <td>normal</td>\n",
       "    </tr>\n",
       "    <tr>\n",
       "      <th>1</th>\n",
       "      <td>0</td>\n",
       "      <td>udp</td>\n",
       "      <td>other</td>\n",
       "      <td>SF</td>\n",
       "      <td>146</td>\n",
       "      <td>0</td>\n",
       "      <td>0</td>\n",
       "      <td>0</td>\n",
       "      <td>0</td>\n",
       "      <td>0</td>\n",
       "      <td>...</td>\n",
       "      <td>1</td>\n",
       "      <td>0.00</td>\n",
       "      <td>0.60</td>\n",
       "      <td>0.88</td>\n",
       "      <td>0.00</td>\n",
       "      <td>0.00</td>\n",
       "      <td>0.00</td>\n",
       "      <td>0.00</td>\n",
       "      <td>0.00</td>\n",
       "      <td>normal</td>\n",
       "    </tr>\n",
       "    <tr>\n",
       "      <th>2</th>\n",
       "      <td>0</td>\n",
       "      <td>tcp</td>\n",
       "      <td>private</td>\n",
       "      <td>S0</td>\n",
       "      <td>0</td>\n",
       "      <td>0</td>\n",
       "      <td>0</td>\n",
       "      <td>0</td>\n",
       "      <td>0</td>\n",
       "      <td>0</td>\n",
       "      <td>...</td>\n",
       "      <td>26</td>\n",
       "      <td>0.10</td>\n",
       "      <td>0.05</td>\n",
       "      <td>0.00</td>\n",
       "      <td>0.00</td>\n",
       "      <td>1.00</td>\n",
       "      <td>1.00</td>\n",
       "      <td>0.00</td>\n",
       "      <td>0.00</td>\n",
       "      <td>neptune</td>\n",
       "    </tr>\n",
       "    <tr>\n",
       "      <th>3</th>\n",
       "      <td>0</td>\n",
       "      <td>tcp</td>\n",
       "      <td>http</td>\n",
       "      <td>SF</td>\n",
       "      <td>232</td>\n",
       "      <td>8153</td>\n",
       "      <td>0</td>\n",
       "      <td>0</td>\n",
       "      <td>0</td>\n",
       "      <td>0</td>\n",
       "      <td>...</td>\n",
       "      <td>255</td>\n",
       "      <td>1.00</td>\n",
       "      <td>0.00</td>\n",
       "      <td>0.03</td>\n",
       "      <td>0.04</td>\n",
       "      <td>0.03</td>\n",
       "      <td>0.01</td>\n",
       "      <td>0.00</td>\n",
       "      <td>0.01</td>\n",
       "      <td>normal</td>\n",
       "    </tr>\n",
       "  </tbody>\n",
       "</table>\n",
       "<p>4 rows × 42 columns</p>\n",
       "</div>"
      ],
      "text/plain": [
       "   duration protocol_type   service flag  src_bytes  dst_bytes  land  \\\n",
       "0         0           tcp  ftp_data   SF        491          0     0   \n",
       "1         0           udp     other   SF        146          0     0   \n",
       "2         0           tcp   private   S0          0          0     0   \n",
       "3         0           tcp      http   SF        232       8153     0   \n",
       "\n",
       "   wrong_fragment  urgent  hot  ...  dst_host_srv_count  \\\n",
       "0               0       0    0  ...                  25   \n",
       "1               0       0    0  ...                   1   \n",
       "2               0       0    0  ...                  26   \n",
       "3               0       0    0  ...                 255   \n",
       "\n",
       "   dst_host_same_srv_rate  dst_host_diff_srv_rate  \\\n",
       "0                    0.17                    0.03   \n",
       "1                    0.00                    0.60   \n",
       "2                    0.10                    0.05   \n",
       "3                    1.00                    0.00   \n",
       "\n",
       "   dst_host_same_src_port_rate  dst_host_srv_diff_host_rate  \\\n",
       "0                         0.17                         0.00   \n",
       "1                         0.88                         0.00   \n",
       "2                         0.00                         0.00   \n",
       "3                         0.03                         0.04   \n",
       "\n",
       "   dst_host_serror_rate  dst_host_srv_serror_rate  dst_host_rerror_rate  \\\n",
       "0                  0.00                      0.00                  0.05   \n",
       "1                  0.00                      0.00                  0.00   \n",
       "2                  1.00                      1.00                  0.00   \n",
       "3                  0.03                      0.01                  0.00   \n",
       "\n",
       "   dst_host_srv_rerror_rate   attack  \n",
       "0                      0.00   normal  \n",
       "1                      0.00   normal  \n",
       "2                      0.00  neptune  \n",
       "3                      0.01   normal  \n",
       "\n",
       "[4 rows x 42 columns]"
      ]
     },
     "execution_count": 11,
     "metadata": {},
     "output_type": "execute_result"
    },
    {
     "name": "stdout",
     "output_type": "stream",
     "text": [
      "time: 26 ms (started: 2021-05-25 16:52:40 +00:00)\n"
     ]
    }
   ],
   "source": [
    "# Preview of Training Data\n",
    "train_data.head(4)"
   ]
  },
  {
   "cell_type": "code",
   "execution_count": 12,
   "metadata": {
    "execution": {
     "iopub.execute_input": "2021-05-25T16:52:44.513882Z",
     "iopub.status.busy": "2021-05-25T16:52:44.513310Z",
     "iopub.status.idle": "2021-05-25T16:52:44.519429Z",
     "shell.execute_reply": "2021-05-25T16:52:44.518229Z",
     "shell.execute_reply.started": "2021-05-25T16:52:44.513848Z"
    },
    "id": "ziwruPZ6FIpC",
    "outputId": "f86a9053-0163-4582-981f-f84ca4daadb6"
   },
   "outputs": [
    {
     "name": "stdout",
     "output_type": "stream",
     "text": [
      "Train set dimension: 125973 rows, 42 columns\n",
      "time: 1.32 ms (started: 2021-05-25 16:52:44 +00:00)\n"
     ]
    }
   ],
   "source": [
    "# Set Dimensions For Training Data\n",
    "print('Train set dimension: {} rows, {} columns'.format(train_data.shape[0], train_data.shape[1]))"
   ]
  },
  {
   "cell_type": "code",
   "execution_count": 13,
   "metadata": {
    "execution": {
     "iopub.execute_input": "2021-05-25T16:52:48.333990Z",
     "iopub.status.busy": "2021-05-25T16:52:48.333591Z",
     "iopub.status.idle": "2021-05-25T16:52:48.360175Z",
     "shell.execute_reply": "2021-05-25T16:52:48.358852Z",
     "shell.execute_reply.started": "2021-05-25T16:52:48.333940Z"
    },
    "id": "vquHli7GFIlh",
    "outputId": "33c39b9f-4728-4fcc-e15e-1de8d3262f1a"
   },
   "outputs": [
    {
     "data": {
      "text/html": [
       "<div>\n",
       "<style scoped>\n",
       "    .dataframe tbody tr th:only-of-type {\n",
       "        vertical-align: middle;\n",
       "    }\n",
       "\n",
       "    .dataframe tbody tr th {\n",
       "        vertical-align: top;\n",
       "    }\n",
       "\n",
       "    .dataframe thead th {\n",
       "        text-align: right;\n",
       "    }\n",
       "</style>\n",
       "<table border=\"1\" class=\"dataframe\">\n",
       "  <thead>\n",
       "    <tr style=\"text-align: right;\">\n",
       "      <th></th>\n",
       "      <th>duration</th>\n",
       "      <th>protocol_type</th>\n",
       "      <th>service</th>\n",
       "      <th>flag</th>\n",
       "      <th>src_bytes</th>\n",
       "      <th>dst_bytes</th>\n",
       "      <th>land</th>\n",
       "      <th>wrong_fragment</th>\n",
       "      <th>urgent</th>\n",
       "      <th>hot</th>\n",
       "      <th>...</th>\n",
       "      <th>dst_host_srv_count</th>\n",
       "      <th>dst_host_same_srv_rate</th>\n",
       "      <th>dst_host_diff_srv_rate</th>\n",
       "      <th>dst_host_same_src_port_rate</th>\n",
       "      <th>dst_host_srv_diff_host_rate</th>\n",
       "      <th>dst_host_serror_rate</th>\n",
       "      <th>dst_host_srv_serror_rate</th>\n",
       "      <th>dst_host_rerror_rate</th>\n",
       "      <th>dst_host_srv_rerror_rate</th>\n",
       "      <th>attack</th>\n",
       "    </tr>\n",
       "  </thead>\n",
       "  <tbody>\n",
       "    <tr>\n",
       "      <th>0</th>\n",
       "      <td>0</td>\n",
       "      <td>tcp</td>\n",
       "      <td>private</td>\n",
       "      <td>REJ</td>\n",
       "      <td>0</td>\n",
       "      <td>0</td>\n",
       "      <td>0</td>\n",
       "      <td>0</td>\n",
       "      <td>0</td>\n",
       "      <td>0</td>\n",
       "      <td>...</td>\n",
       "      <td>10</td>\n",
       "      <td>0.04</td>\n",
       "      <td>0.06</td>\n",
       "      <td>0.00</td>\n",
       "      <td>0.00</td>\n",
       "      <td>0.0</td>\n",
       "      <td>0.0</td>\n",
       "      <td>1.0</td>\n",
       "      <td>1.0</td>\n",
       "      <td>neptune</td>\n",
       "    </tr>\n",
       "    <tr>\n",
       "      <th>1</th>\n",
       "      <td>0</td>\n",
       "      <td>tcp</td>\n",
       "      <td>private</td>\n",
       "      <td>REJ</td>\n",
       "      <td>0</td>\n",
       "      <td>0</td>\n",
       "      <td>0</td>\n",
       "      <td>0</td>\n",
       "      <td>0</td>\n",
       "      <td>0</td>\n",
       "      <td>...</td>\n",
       "      <td>1</td>\n",
       "      <td>0.00</td>\n",
       "      <td>0.06</td>\n",
       "      <td>0.00</td>\n",
       "      <td>0.00</td>\n",
       "      <td>0.0</td>\n",
       "      <td>0.0</td>\n",
       "      <td>1.0</td>\n",
       "      <td>1.0</td>\n",
       "      <td>neptune</td>\n",
       "    </tr>\n",
       "    <tr>\n",
       "      <th>2</th>\n",
       "      <td>2</td>\n",
       "      <td>tcp</td>\n",
       "      <td>ftp_data</td>\n",
       "      <td>SF</td>\n",
       "      <td>12983</td>\n",
       "      <td>0</td>\n",
       "      <td>0</td>\n",
       "      <td>0</td>\n",
       "      <td>0</td>\n",
       "      <td>0</td>\n",
       "      <td>...</td>\n",
       "      <td>86</td>\n",
       "      <td>0.61</td>\n",
       "      <td>0.04</td>\n",
       "      <td>0.61</td>\n",
       "      <td>0.02</td>\n",
       "      <td>0.0</td>\n",
       "      <td>0.0</td>\n",
       "      <td>0.0</td>\n",
       "      <td>0.0</td>\n",
       "      <td>normal</td>\n",
       "    </tr>\n",
       "    <tr>\n",
       "      <th>3</th>\n",
       "      <td>0</td>\n",
       "      <td>icmp</td>\n",
       "      <td>eco_i</td>\n",
       "      <td>SF</td>\n",
       "      <td>20</td>\n",
       "      <td>0</td>\n",
       "      <td>0</td>\n",
       "      <td>0</td>\n",
       "      <td>0</td>\n",
       "      <td>0</td>\n",
       "      <td>...</td>\n",
       "      <td>57</td>\n",
       "      <td>1.00</td>\n",
       "      <td>0.00</td>\n",
       "      <td>1.00</td>\n",
       "      <td>0.28</td>\n",
       "      <td>0.0</td>\n",
       "      <td>0.0</td>\n",
       "      <td>0.0</td>\n",
       "      <td>0.0</td>\n",
       "      <td>saint</td>\n",
       "    </tr>\n",
       "  </tbody>\n",
       "</table>\n",
       "<p>4 rows × 42 columns</p>\n",
       "</div>"
      ],
      "text/plain": [
       "   duration protocol_type   service flag  src_bytes  dst_bytes  land  \\\n",
       "0         0           tcp   private  REJ          0          0     0   \n",
       "1         0           tcp   private  REJ          0          0     0   \n",
       "2         2           tcp  ftp_data   SF      12983          0     0   \n",
       "3         0          icmp     eco_i   SF         20          0     0   \n",
       "\n",
       "   wrong_fragment  urgent  hot  ...  dst_host_srv_count  \\\n",
       "0               0       0    0  ...                  10   \n",
       "1               0       0    0  ...                   1   \n",
       "2               0       0    0  ...                  86   \n",
       "3               0       0    0  ...                  57   \n",
       "\n",
       "   dst_host_same_srv_rate  dst_host_diff_srv_rate  \\\n",
       "0                    0.04                    0.06   \n",
       "1                    0.00                    0.06   \n",
       "2                    0.61                    0.04   \n",
       "3                    1.00                    0.00   \n",
       "\n",
       "   dst_host_same_src_port_rate  dst_host_srv_diff_host_rate  \\\n",
       "0                         0.00                         0.00   \n",
       "1                         0.00                         0.00   \n",
       "2                         0.61                         0.02   \n",
       "3                         1.00                         0.28   \n",
       "\n",
       "   dst_host_serror_rate  dst_host_srv_serror_rate  dst_host_rerror_rate  \\\n",
       "0                   0.0                       0.0                   1.0   \n",
       "1                   0.0                       0.0                   1.0   \n",
       "2                   0.0                       0.0                   0.0   \n",
       "3                   0.0                       0.0                   0.0   \n",
       "\n",
       "   dst_host_srv_rerror_rate   attack  \n",
       "0                       1.0  neptune  \n",
       "1                       1.0  neptune  \n",
       "2                       0.0   normal  \n",
       "3                       0.0    saint  \n",
       "\n",
       "[4 rows x 42 columns]"
      ]
     },
     "execution_count": 13,
     "metadata": {},
     "output_type": "execute_result"
    },
    {
     "name": "stdout",
     "output_type": "stream",
     "text": [
      "time: 22 ms (started: 2021-05-25 16:52:48 +00:00)\n"
     ]
    }
   ],
   "source": [
    "# Preview of Testing Data\n",
    "test_data.head(4)"
   ]
  },
  {
   "cell_type": "code",
   "execution_count": 14,
   "metadata": {
    "execution": {
     "iopub.execute_input": "2021-05-25T16:52:52.483852Z",
     "iopub.status.busy": "2021-05-25T16:52:52.483531Z",
     "iopub.status.idle": "2021-05-25T16:52:52.488632Z",
     "shell.execute_reply": "2021-05-25T16:52:52.487543Z",
     "shell.execute_reply.started": "2021-05-25T16:52:52.483803Z"
    },
    "id": "NQ8QX-NeFIkd",
    "outputId": "c3721747-54e5-45fc-feea-0e0915a7a04a"
   },
   "outputs": [
    {
     "name": "stdout",
     "output_type": "stream",
     "text": [
      "Test set dimension: 22544 rows, 42 columns\n",
      "time: 493 µs (started: 2021-05-25 16:52:52 +00:00)\n"
     ]
    }
   ],
   "source": [
    "# Set Dimensions For Training Data\n",
    "print('Test set dimension: {} rows, {} columns'.format(test_data.shape[0], test_data.shape[1]))"
   ]
  },
  {
   "cell_type": "markdown",
   "metadata": {
    "id": "R-WzOQB2ydO6"
   },
   "source": [
    "# Data Preprocessing"
   ]
  },
  {
   "cell_type": "markdown",
   "metadata": {
    "id": "krVyxylR8NsG"
   },
   "source": [
    "Mapping Different Attacks into 4 Major Attack Classes:\n",
    "\n",
    "1.   Denial of Service (DoS)\n",
    "2.   Probing Attack (Probe)\n",
    "3.   User to Root Attack (U2R)\n",
    "4.   Remote to Local Attack (R2L)\n",
    "\n"
   ]
  },
  {
   "cell_type": "code",
   "execution_count": 15,
   "metadata": {
    "execution": {
     "iopub.execute_input": "2021-05-25T16:52:57.024191Z",
     "iopub.status.busy": "2021-05-25T16:52:57.023876Z",
     "iopub.status.idle": "2021-05-25T16:52:57.031317Z",
     "shell.execute_reply": "2021-05-25T16:52:57.030444Z",
     "shell.execute_reply.started": "2021-05-25T16:52:57.024166Z"
    },
    "id": "utHlGflvFIgM",
    "outputId": "6e3f0c6b-9033-4c70-cd2c-59aac84d9eda"
   },
   "outputs": [
    {
     "name": "stdout",
     "output_type": "stream",
     "text": [
      "time: 749 µs (started: 2021-05-25 16:52:57 +00:00)\n"
     ]
    }
   ],
   "source": [
    "map = {'ipsweep': 'Probe','satan': 'Probe','nmap': 'Probe','portsweep': 'Probe','saint': 'Probe','mscan': 'Probe',\n",
    "        'teardrop': 'DoS','pod': 'DoS','land': 'DoS','back': 'DoS','neptune': 'DoS','smurf': 'DoS','mailbomb': 'DoS',\n",
    "        'udpstorm': 'DoS','apache2': 'DoS','processtable': 'DoS',\n",
    "        'perl': 'U2R','loadmodule': 'U2R','rootkit': 'U2R','buffer_overflow': 'U2R','xterm': 'U2R','ps': 'U2R',\n",
    "        'sqlattack': 'U2R','httptunnel': 'U2R',\n",
    "        'ftp_write': 'R2L','phf': 'R2L','guess_passwd': 'R2L','warezmaster': 'R2L','warezclient': 'R2L','imap': 'R2L',\n",
    "        'spy': 'R2L','multihop': 'R2L','named': 'R2L','snmpguess': 'R2L','worm': 'R2L','snmpgetattack': 'R2L',\n",
    "        'xsnoop': 'R2L','xlock': 'R2L','sendmail': 'R2L',\n",
    "        'normal': 'Normal'\n",
    "        }"
   ]
  },
  {
   "cell_type": "code",
   "execution_count": 16,
   "metadata": {
    "execution": {
     "iopub.execute_input": "2021-05-25T16:53:00.503946Z",
     "iopub.status.busy": "2021-05-25T16:53:00.503600Z",
     "iopub.status.idle": "2021-05-25T16:53:00.551477Z",
     "shell.execute_reply": "2021-05-25T16:53:00.550544Z",
     "shell.execute_reply.started": "2021-05-25T16:53:00.503918Z"
    },
    "id": "KdbiElE2FIe_",
    "outputId": "402f22f5-23c9-4ddc-bcca-0fc56ed92405"
   },
   "outputs": [
    {
     "name": "stdout",
     "output_type": "stream",
     "text": [
      "time: 43.1 ms (started: 2021-05-25 16:53:00 +00:00)\n"
     ]
    }
   ],
   "source": [
    "# Apply attack class mappings to the dataset\n",
    "train_data['attack_class'] = train_data['attack'].apply(lambda v: map[v])\n",
    "test_data['attack_class'] = test_data['attack'].apply(lambda v: map[v])"
   ]
  },
  {
   "cell_type": "code",
   "execution_count": 17,
   "metadata": {
    "execution": {
     "iopub.execute_input": "2021-05-25T16:53:04.924088Z",
     "iopub.status.busy": "2021-05-25T16:53:04.923724Z",
     "iopub.status.idle": "2021-05-25T16:53:04.957717Z",
     "shell.execute_reply": "2021-05-25T16:53:04.956892Z",
     "shell.execute_reply.started": "2021-05-25T16:53:04.924056Z"
    },
    "id": "mEpA5a3HFIaz",
    "outputId": "fcad6ca1-4345-4542-bd12-f73b49c83b20"
   },
   "outputs": [
    {
     "name": "stdout",
     "output_type": "stream",
     "text": [
      "time: 29.6 ms (started: 2021-05-25 16:53:04 +00:00)\n"
     ]
    }
   ],
   "source": [
    "# Drop attack field from both train and test data\n",
    "train_data.drop(['attack'], axis=1, inplace=True)\n",
    "test_data.drop(['attack'], axis=1, inplace=True)"
   ]
  },
  {
   "cell_type": "code",
   "execution_count": 18,
   "metadata": {
    "execution": {
     "iopub.execute_input": "2021-05-25T16:53:08.024188Z",
     "iopub.status.busy": "2021-05-25T16:53:08.023847Z",
     "iopub.status.idle": "2021-05-25T16:53:08.050795Z",
     "shell.execute_reply": "2021-05-25T16:53:08.049910Z",
     "shell.execute_reply.started": "2021-05-25T16:53:08.024151Z"
    },
    "id": "lMjaI2shFIaB",
    "outputId": "b14f6a98-6370-47e9-a783-ef7c993d82d1"
   },
   "outputs": [
    {
     "data": {
      "text/html": [
       "<div>\n",
       "<style scoped>\n",
       "    .dataframe tbody tr th:only-of-type {\n",
       "        vertical-align: middle;\n",
       "    }\n",
       "\n",
       "    .dataframe tbody tr th {\n",
       "        vertical-align: top;\n",
       "    }\n",
       "\n",
       "    .dataframe thead th {\n",
       "        text-align: right;\n",
       "    }\n",
       "</style>\n",
       "<table border=\"1\" class=\"dataframe\">\n",
       "  <thead>\n",
       "    <tr style=\"text-align: right;\">\n",
       "      <th></th>\n",
       "      <th>duration</th>\n",
       "      <th>protocol_type</th>\n",
       "      <th>service</th>\n",
       "      <th>flag</th>\n",
       "      <th>src_bytes</th>\n",
       "      <th>dst_bytes</th>\n",
       "      <th>land</th>\n",
       "      <th>wrong_fragment</th>\n",
       "      <th>urgent</th>\n",
       "      <th>hot</th>\n",
       "      <th>...</th>\n",
       "      <th>dst_host_srv_count</th>\n",
       "      <th>dst_host_same_srv_rate</th>\n",
       "      <th>dst_host_diff_srv_rate</th>\n",
       "      <th>dst_host_same_src_port_rate</th>\n",
       "      <th>dst_host_srv_diff_host_rate</th>\n",
       "      <th>dst_host_serror_rate</th>\n",
       "      <th>dst_host_srv_serror_rate</th>\n",
       "      <th>dst_host_rerror_rate</th>\n",
       "      <th>dst_host_srv_rerror_rate</th>\n",
       "      <th>attack_class</th>\n",
       "    </tr>\n",
       "  </thead>\n",
       "  <tbody>\n",
       "    <tr>\n",
       "      <th>0</th>\n",
       "      <td>0</td>\n",
       "      <td>tcp</td>\n",
       "      <td>ftp_data</td>\n",
       "      <td>SF</td>\n",
       "      <td>491</td>\n",
       "      <td>0</td>\n",
       "      <td>0</td>\n",
       "      <td>0</td>\n",
       "      <td>0</td>\n",
       "      <td>0</td>\n",
       "      <td>...</td>\n",
       "      <td>25</td>\n",
       "      <td>0.17</td>\n",
       "      <td>0.03</td>\n",
       "      <td>0.17</td>\n",
       "      <td>0.00</td>\n",
       "      <td>0.00</td>\n",
       "      <td>0.00</td>\n",
       "      <td>0.05</td>\n",
       "      <td>0.00</td>\n",
       "      <td>Normal</td>\n",
       "    </tr>\n",
       "    <tr>\n",
       "      <th>1</th>\n",
       "      <td>0</td>\n",
       "      <td>udp</td>\n",
       "      <td>other</td>\n",
       "      <td>SF</td>\n",
       "      <td>146</td>\n",
       "      <td>0</td>\n",
       "      <td>0</td>\n",
       "      <td>0</td>\n",
       "      <td>0</td>\n",
       "      <td>0</td>\n",
       "      <td>...</td>\n",
       "      <td>1</td>\n",
       "      <td>0.00</td>\n",
       "      <td>0.60</td>\n",
       "      <td>0.88</td>\n",
       "      <td>0.00</td>\n",
       "      <td>0.00</td>\n",
       "      <td>0.00</td>\n",
       "      <td>0.00</td>\n",
       "      <td>0.00</td>\n",
       "      <td>Normal</td>\n",
       "    </tr>\n",
       "    <tr>\n",
       "      <th>2</th>\n",
       "      <td>0</td>\n",
       "      <td>tcp</td>\n",
       "      <td>private</td>\n",
       "      <td>S0</td>\n",
       "      <td>0</td>\n",
       "      <td>0</td>\n",
       "      <td>0</td>\n",
       "      <td>0</td>\n",
       "      <td>0</td>\n",
       "      <td>0</td>\n",
       "      <td>...</td>\n",
       "      <td>26</td>\n",
       "      <td>0.10</td>\n",
       "      <td>0.05</td>\n",
       "      <td>0.00</td>\n",
       "      <td>0.00</td>\n",
       "      <td>1.00</td>\n",
       "      <td>1.00</td>\n",
       "      <td>0.00</td>\n",
       "      <td>0.00</td>\n",
       "      <td>DoS</td>\n",
       "    </tr>\n",
       "    <tr>\n",
       "      <th>3</th>\n",
       "      <td>0</td>\n",
       "      <td>tcp</td>\n",
       "      <td>http</td>\n",
       "      <td>SF</td>\n",
       "      <td>232</td>\n",
       "      <td>8153</td>\n",
       "      <td>0</td>\n",
       "      <td>0</td>\n",
       "      <td>0</td>\n",
       "      <td>0</td>\n",
       "      <td>...</td>\n",
       "      <td>255</td>\n",
       "      <td>1.00</td>\n",
       "      <td>0.00</td>\n",
       "      <td>0.03</td>\n",
       "      <td>0.04</td>\n",
       "      <td>0.03</td>\n",
       "      <td>0.01</td>\n",
       "      <td>0.00</td>\n",
       "      <td>0.01</td>\n",
       "      <td>Normal</td>\n",
       "    </tr>\n",
       "  </tbody>\n",
       "</table>\n",
       "<p>4 rows × 42 columns</p>\n",
       "</div>"
      ],
      "text/plain": [
       "   duration protocol_type   service flag  src_bytes  dst_bytes  land  \\\n",
       "0         0           tcp  ftp_data   SF        491          0     0   \n",
       "1         0           udp     other   SF        146          0     0   \n",
       "2         0           tcp   private   S0          0          0     0   \n",
       "3         0           tcp      http   SF        232       8153     0   \n",
       "\n",
       "   wrong_fragment  urgent  hot  ...  dst_host_srv_count  \\\n",
       "0               0       0    0  ...                  25   \n",
       "1               0       0    0  ...                   1   \n",
       "2               0       0    0  ...                  26   \n",
       "3               0       0    0  ...                 255   \n",
       "\n",
       "   dst_host_same_srv_rate  dst_host_diff_srv_rate  \\\n",
       "0                    0.17                    0.03   \n",
       "1                    0.00                    0.60   \n",
       "2                    0.10                    0.05   \n",
       "3                    1.00                    0.00   \n",
       "\n",
       "   dst_host_same_src_port_rate  dst_host_srv_diff_host_rate  \\\n",
       "0                         0.17                         0.00   \n",
       "1                         0.88                         0.00   \n",
       "2                         0.00                         0.00   \n",
       "3                         0.03                         0.04   \n",
       "\n",
       "   dst_host_serror_rate  dst_host_srv_serror_rate  dst_host_rerror_rate  \\\n",
       "0                  0.00                      0.00                  0.05   \n",
       "1                  0.00                      0.00                  0.00   \n",
       "2                  1.00                      1.00                  0.00   \n",
       "3                  0.03                      0.01                  0.00   \n",
       "\n",
       "   dst_host_srv_rerror_rate  attack_class  \n",
       "0                      0.00        Normal  \n",
       "1                      0.00        Normal  \n",
       "2                      0.00           DoS  \n",
       "3                      0.01        Normal  \n",
       "\n",
       "[4 rows x 42 columns]"
      ]
     },
     "execution_count": 18,
     "metadata": {},
     "output_type": "execute_result"
    },
    {
     "name": "stdout",
     "output_type": "stream",
     "text": [
      "time: 22.9 ms (started: 2021-05-25 16:53:08 +00:00)\n"
     ]
    }
   ],
   "source": [
    "# Preview of top 4 Train Data \n",
    "train_data.head(4)"
   ]
  },
  {
   "cell_type": "code",
   "execution_count": 19,
   "metadata": {
    "execution": {
     "iopub.execute_input": "2021-05-25T16:53:11.744091Z",
     "iopub.status.busy": "2021-05-25T16:53:11.743506Z",
     "iopub.status.idle": "2021-05-25T16:53:11.953007Z",
     "shell.execute_reply": "2021-05-25T16:53:11.951899Z",
     "shell.execute_reply.started": "2021-05-25T16:53:11.744043Z"
    },
    "id": "F4YkGCEZFIVa",
    "outputId": "9a06c117-bbe7-4b54-ff92-2ebcc95982db"
   },
   "outputs": [
    {
     "data": {
      "text/html": [
       "<div>\n",
       "<style scoped>\n",
       "    .dataframe tbody tr th:only-of-type {\n",
       "        vertical-align: middle;\n",
       "    }\n",
       "\n",
       "    .dataframe tbody tr th {\n",
       "        vertical-align: top;\n",
       "    }\n",
       "\n",
       "    .dataframe thead th {\n",
       "        text-align: right;\n",
       "    }\n",
       "</style>\n",
       "<table border=\"1\" class=\"dataframe\">\n",
       "  <thead>\n",
       "    <tr style=\"text-align: right;\">\n",
       "      <th></th>\n",
       "      <th>duration</th>\n",
       "      <th>src_bytes</th>\n",
       "      <th>dst_bytes</th>\n",
       "      <th>land</th>\n",
       "      <th>wrong_fragment</th>\n",
       "      <th>urgent</th>\n",
       "      <th>hot</th>\n",
       "      <th>num_failed_logins</th>\n",
       "      <th>logged_in</th>\n",
       "      <th>num_compromised</th>\n",
       "      <th>...</th>\n",
       "      <th>dst_host_count</th>\n",
       "      <th>dst_host_srv_count</th>\n",
       "      <th>dst_host_same_srv_rate</th>\n",
       "      <th>dst_host_diff_srv_rate</th>\n",
       "      <th>dst_host_same_src_port_rate</th>\n",
       "      <th>dst_host_srv_diff_host_rate</th>\n",
       "      <th>dst_host_serror_rate</th>\n",
       "      <th>dst_host_srv_serror_rate</th>\n",
       "      <th>dst_host_rerror_rate</th>\n",
       "      <th>dst_host_srv_rerror_rate</th>\n",
       "    </tr>\n",
       "  </thead>\n",
       "  <tbody>\n",
       "    <tr>\n",
       "      <th>count</th>\n",
       "      <td>125973.00000</td>\n",
       "      <td>1.259730e+05</td>\n",
       "      <td>1.259730e+05</td>\n",
       "      <td>125973.000000</td>\n",
       "      <td>125973.000000</td>\n",
       "      <td>125973.000000</td>\n",
       "      <td>125973.000000</td>\n",
       "      <td>125973.000000</td>\n",
       "      <td>125973.000000</td>\n",
       "      <td>125973.000000</td>\n",
       "      <td>...</td>\n",
       "      <td>125973.000000</td>\n",
       "      <td>125973.000000</td>\n",
       "      <td>125973.000000</td>\n",
       "      <td>125973.000000</td>\n",
       "      <td>125973.000000</td>\n",
       "      <td>125973.000000</td>\n",
       "      <td>125973.000000</td>\n",
       "      <td>125973.000000</td>\n",
       "      <td>125973.000000</td>\n",
       "      <td>125973.000000</td>\n",
       "    </tr>\n",
       "    <tr>\n",
       "      <th>mean</th>\n",
       "      <td>287.14465</td>\n",
       "      <td>4.556674e+04</td>\n",
       "      <td>1.977911e+04</td>\n",
       "      <td>0.000198</td>\n",
       "      <td>0.022687</td>\n",
       "      <td>0.000111</td>\n",
       "      <td>0.204409</td>\n",
       "      <td>0.001222</td>\n",
       "      <td>0.395736</td>\n",
       "      <td>0.279250</td>\n",
       "      <td>...</td>\n",
       "      <td>182.148945</td>\n",
       "      <td>115.653005</td>\n",
       "      <td>0.521242</td>\n",
       "      <td>0.082951</td>\n",
       "      <td>0.148379</td>\n",
       "      <td>0.032542</td>\n",
       "      <td>0.284452</td>\n",
       "      <td>0.278485</td>\n",
       "      <td>0.118832</td>\n",
       "      <td>0.120240</td>\n",
       "    </tr>\n",
       "    <tr>\n",
       "      <th>std</th>\n",
       "      <td>2604.51531</td>\n",
       "      <td>5.870331e+06</td>\n",
       "      <td>4.021269e+06</td>\n",
       "      <td>0.014086</td>\n",
       "      <td>0.253530</td>\n",
       "      <td>0.014366</td>\n",
       "      <td>2.149968</td>\n",
       "      <td>0.045239</td>\n",
       "      <td>0.489010</td>\n",
       "      <td>23.942042</td>\n",
       "      <td>...</td>\n",
       "      <td>99.206213</td>\n",
       "      <td>110.702741</td>\n",
       "      <td>0.448949</td>\n",
       "      <td>0.188922</td>\n",
       "      <td>0.308997</td>\n",
       "      <td>0.112564</td>\n",
       "      <td>0.444784</td>\n",
       "      <td>0.445669</td>\n",
       "      <td>0.306557</td>\n",
       "      <td>0.319459</td>\n",
       "    </tr>\n",
       "    <tr>\n",
       "      <th>min</th>\n",
       "      <td>0.00000</td>\n",
       "      <td>0.000000e+00</td>\n",
       "      <td>0.000000e+00</td>\n",
       "      <td>0.000000</td>\n",
       "      <td>0.000000</td>\n",
       "      <td>0.000000</td>\n",
       "      <td>0.000000</td>\n",
       "      <td>0.000000</td>\n",
       "      <td>0.000000</td>\n",
       "      <td>0.000000</td>\n",
       "      <td>...</td>\n",
       "      <td>0.000000</td>\n",
       "      <td>0.000000</td>\n",
       "      <td>0.000000</td>\n",
       "      <td>0.000000</td>\n",
       "      <td>0.000000</td>\n",
       "      <td>0.000000</td>\n",
       "      <td>0.000000</td>\n",
       "      <td>0.000000</td>\n",
       "      <td>0.000000</td>\n",
       "      <td>0.000000</td>\n",
       "    </tr>\n",
       "    <tr>\n",
       "      <th>25%</th>\n",
       "      <td>0.00000</td>\n",
       "      <td>0.000000e+00</td>\n",
       "      <td>0.000000e+00</td>\n",
       "      <td>0.000000</td>\n",
       "      <td>0.000000</td>\n",
       "      <td>0.000000</td>\n",
       "      <td>0.000000</td>\n",
       "      <td>0.000000</td>\n",
       "      <td>0.000000</td>\n",
       "      <td>0.000000</td>\n",
       "      <td>...</td>\n",
       "      <td>82.000000</td>\n",
       "      <td>10.000000</td>\n",
       "      <td>0.050000</td>\n",
       "      <td>0.000000</td>\n",
       "      <td>0.000000</td>\n",
       "      <td>0.000000</td>\n",
       "      <td>0.000000</td>\n",
       "      <td>0.000000</td>\n",
       "      <td>0.000000</td>\n",
       "      <td>0.000000</td>\n",
       "    </tr>\n",
       "    <tr>\n",
       "      <th>50%</th>\n",
       "      <td>0.00000</td>\n",
       "      <td>4.400000e+01</td>\n",
       "      <td>0.000000e+00</td>\n",
       "      <td>0.000000</td>\n",
       "      <td>0.000000</td>\n",
       "      <td>0.000000</td>\n",
       "      <td>0.000000</td>\n",
       "      <td>0.000000</td>\n",
       "      <td>0.000000</td>\n",
       "      <td>0.000000</td>\n",
       "      <td>...</td>\n",
       "      <td>255.000000</td>\n",
       "      <td>63.000000</td>\n",
       "      <td>0.510000</td>\n",
       "      <td>0.020000</td>\n",
       "      <td>0.000000</td>\n",
       "      <td>0.000000</td>\n",
       "      <td>0.000000</td>\n",
       "      <td>0.000000</td>\n",
       "      <td>0.000000</td>\n",
       "      <td>0.000000</td>\n",
       "    </tr>\n",
       "    <tr>\n",
       "      <th>75%</th>\n",
       "      <td>0.00000</td>\n",
       "      <td>2.760000e+02</td>\n",
       "      <td>5.160000e+02</td>\n",
       "      <td>0.000000</td>\n",
       "      <td>0.000000</td>\n",
       "      <td>0.000000</td>\n",
       "      <td>0.000000</td>\n",
       "      <td>0.000000</td>\n",
       "      <td>1.000000</td>\n",
       "      <td>0.000000</td>\n",
       "      <td>...</td>\n",
       "      <td>255.000000</td>\n",
       "      <td>255.000000</td>\n",
       "      <td>1.000000</td>\n",
       "      <td>0.070000</td>\n",
       "      <td>0.060000</td>\n",
       "      <td>0.020000</td>\n",
       "      <td>1.000000</td>\n",
       "      <td>1.000000</td>\n",
       "      <td>0.000000</td>\n",
       "      <td>0.000000</td>\n",
       "    </tr>\n",
       "    <tr>\n",
       "      <th>max</th>\n",
       "      <td>42908.00000</td>\n",
       "      <td>1.379964e+09</td>\n",
       "      <td>1.309937e+09</td>\n",
       "      <td>1.000000</td>\n",
       "      <td>3.000000</td>\n",
       "      <td>3.000000</td>\n",
       "      <td>77.000000</td>\n",
       "      <td>5.000000</td>\n",
       "      <td>1.000000</td>\n",
       "      <td>7479.000000</td>\n",
       "      <td>...</td>\n",
       "      <td>255.000000</td>\n",
       "      <td>255.000000</td>\n",
       "      <td>1.000000</td>\n",
       "      <td>1.000000</td>\n",
       "      <td>1.000000</td>\n",
       "      <td>1.000000</td>\n",
       "      <td>1.000000</td>\n",
       "      <td>1.000000</td>\n",
       "      <td>1.000000</td>\n",
       "      <td>1.000000</td>\n",
       "    </tr>\n",
       "  </tbody>\n",
       "</table>\n",
       "<p>8 rows × 38 columns</p>\n",
       "</div>"
      ],
      "text/plain": [
       "           duration     src_bytes     dst_bytes           land  \\\n",
       "count  125973.00000  1.259730e+05  1.259730e+05  125973.000000   \n",
       "mean      287.14465  4.556674e+04  1.977911e+04       0.000198   \n",
       "std      2604.51531  5.870331e+06  4.021269e+06       0.014086   \n",
       "min         0.00000  0.000000e+00  0.000000e+00       0.000000   \n",
       "25%         0.00000  0.000000e+00  0.000000e+00       0.000000   \n",
       "50%         0.00000  4.400000e+01  0.000000e+00       0.000000   \n",
       "75%         0.00000  2.760000e+02  5.160000e+02       0.000000   \n",
       "max     42908.00000  1.379964e+09  1.309937e+09       1.000000   \n",
       "\n",
       "       wrong_fragment         urgent            hot  num_failed_logins  \\\n",
       "count   125973.000000  125973.000000  125973.000000      125973.000000   \n",
       "mean         0.022687       0.000111       0.204409           0.001222   \n",
       "std          0.253530       0.014366       2.149968           0.045239   \n",
       "min          0.000000       0.000000       0.000000           0.000000   \n",
       "25%          0.000000       0.000000       0.000000           0.000000   \n",
       "50%          0.000000       0.000000       0.000000           0.000000   \n",
       "75%          0.000000       0.000000       0.000000           0.000000   \n",
       "max          3.000000       3.000000      77.000000           5.000000   \n",
       "\n",
       "           logged_in  num_compromised  ...  dst_host_count  \\\n",
       "count  125973.000000    125973.000000  ...   125973.000000   \n",
       "mean        0.395736         0.279250  ...      182.148945   \n",
       "std         0.489010        23.942042  ...       99.206213   \n",
       "min         0.000000         0.000000  ...        0.000000   \n",
       "25%         0.000000         0.000000  ...       82.000000   \n",
       "50%         0.000000         0.000000  ...      255.000000   \n",
       "75%         1.000000         0.000000  ...      255.000000   \n",
       "max         1.000000      7479.000000  ...      255.000000   \n",
       "\n",
       "       dst_host_srv_count  dst_host_same_srv_rate  dst_host_diff_srv_rate  \\\n",
       "count       125973.000000           125973.000000           125973.000000   \n",
       "mean           115.653005                0.521242                0.082951   \n",
       "std            110.702741                0.448949                0.188922   \n",
       "min              0.000000                0.000000                0.000000   \n",
       "25%             10.000000                0.050000                0.000000   \n",
       "50%             63.000000                0.510000                0.020000   \n",
       "75%            255.000000                1.000000                0.070000   \n",
       "max            255.000000                1.000000                1.000000   \n",
       "\n",
       "       dst_host_same_src_port_rate  dst_host_srv_diff_host_rate  \\\n",
       "count                125973.000000                125973.000000   \n",
       "mean                      0.148379                     0.032542   \n",
       "std                       0.308997                     0.112564   \n",
       "min                       0.000000                     0.000000   \n",
       "25%                       0.000000                     0.000000   \n",
       "50%                       0.000000                     0.000000   \n",
       "75%                       0.060000                     0.020000   \n",
       "max                       1.000000                     1.000000   \n",
       "\n",
       "       dst_host_serror_rate  dst_host_srv_serror_rate  dst_host_rerror_rate  \\\n",
       "count         125973.000000             125973.000000         125973.000000   \n",
       "mean               0.284452                  0.278485              0.118832   \n",
       "std                0.444784                  0.445669              0.306557   \n",
       "min                0.000000                  0.000000              0.000000   \n",
       "25%                0.000000                  0.000000              0.000000   \n",
       "50%                0.000000                  0.000000              0.000000   \n",
       "75%                1.000000                  1.000000              0.000000   \n",
       "max                1.000000                  1.000000              1.000000   \n",
       "\n",
       "       dst_host_srv_rerror_rate  \n",
       "count             125973.000000  \n",
       "mean                   0.120240  \n",
       "std                    0.319459  \n",
       "min                    0.000000  \n",
       "25%                    0.000000  \n",
       "50%                    0.000000  \n",
       "75%                    0.000000  \n",
       "max                    1.000000  \n",
       "\n",
       "[8 rows x 38 columns]"
      ]
     },
     "execution_count": 19,
     "metadata": {},
     "output_type": "execute_result"
    },
    {
     "name": "stdout",
     "output_type": "stream",
     "text": [
      "time: 204 ms (started: 2021-05-25 16:53:11 +00:00)\n"
     ]
    }
   ],
   "source": [
    "# Descriptive statistics\n",
    "da = train_data.describe()\n",
    "da"
   ]
  },
  {
   "cell_type": "code",
   "execution_count": 20,
   "metadata": {
    "execution": {
     "iopub.execute_input": "2021-05-25T16:53:16.974173Z",
     "iopub.status.busy": "2021-05-25T16:53:16.973810Z",
     "iopub.status.idle": "2021-05-25T16:53:16.984513Z",
     "shell.execute_reply": "2021-05-25T16:53:16.983824Z",
     "shell.execute_reply.started": "2021-05-25T16:53:16.974124Z"
    },
    "id": "istL2w6xFIUt",
    "outputId": "b5edace6-38f3-4ba5-eba8-17514d8af621"
   },
   "outputs": [
    {
     "data": {
      "text/plain": [
       "0    125973\n",
       "Name: num_outbound_cmds, dtype: int64"
      ]
     },
     "execution_count": 20,
     "metadata": {},
     "output_type": "execute_result"
    },
    {
     "name": "stdout",
     "output_type": "stream",
     "text": [
      "time: 6.2 ms (started: 2021-05-25 16:53:16 +00:00)\n"
     ]
    }
   ],
   "source": [
    "train_data['num_outbound_cmds'].value_counts()"
   ]
  },
  {
   "cell_type": "code",
   "execution_count": 21,
   "metadata": {
    "execution": {
     "iopub.execute_input": "2021-05-25T16:53:21.104097Z",
     "iopub.status.busy": "2021-05-25T16:53:21.103461Z",
     "iopub.status.idle": "2021-05-25T16:53:21.113940Z",
     "shell.execute_reply": "2021-05-25T16:53:21.112776Z",
     "shell.execute_reply.started": "2021-05-25T16:53:21.104049Z"
    },
    "id": "zh9jzBr5FIP4",
    "outputId": "e62d9f25-fc7f-433b-f46e-ec548e42164f"
   },
   "outputs": [
    {
     "data": {
      "text/plain": [
       "0    22544\n",
       "Name: num_outbound_cmds, dtype: int64"
      ]
     },
     "execution_count": 21,
     "metadata": {},
     "output_type": "execute_result"
    },
    {
     "name": "stdout",
     "output_type": "stream",
     "text": [
      "time: 5.49 ms (started: 2021-05-25 16:53:21 +00:00)\n"
     ]
    }
   ],
   "source": [
    "test_data['num_outbound_cmds'].value_counts()"
   ]
  },
  {
   "cell_type": "code",
   "execution_count": 22,
   "metadata": {
    "execution": {
     "iopub.execute_input": "2021-05-25T16:53:25.213956Z",
     "iopub.status.busy": "2021-05-25T16:53:25.213621Z",
     "iopub.status.idle": "2021-05-25T16:53:25.228893Z",
     "shell.execute_reply": "2021-05-25T16:53:25.228104Z",
     "shell.execute_reply.started": "2021-05-25T16:53:25.213928Z"
    },
    "id": "DPTzgwaxFIO_",
    "outputId": "ff6fa272-0173-4c73-c184-2aae2f247514"
   },
   "outputs": [
    {
     "name": "stdout",
     "output_type": "stream",
     "text": [
      "time: 11.3 ms (started: 2021-05-25 16:53:25 +00:00)\n"
     ]
    }
   ],
   "source": [
    "train_data.drop(['num_outbound_cmds'], axis=1, inplace=True)"
   ]
  },
  {
   "cell_type": "code",
   "execution_count": 23,
   "metadata": {
    "execution": {
     "iopub.execute_input": "2021-05-25T16:53:28.753853Z",
     "iopub.status.busy": "2021-05-25T16:53:28.753537Z",
     "iopub.status.idle": "2021-05-25T16:53:28.762562Z",
     "shell.execute_reply": "2021-05-25T16:53:28.761875Z",
     "shell.execute_reply.started": "2021-05-25T16:53:28.753813Z"
    },
    "id": "cN_R0WwfFILI",
    "outputId": "5c7e9831-734e-4ab1-ea08-73fdd47d40a0"
   },
   "outputs": [
    {
     "name": "stdout",
     "output_type": "stream",
     "text": [
      "time: 4.66 ms (started: 2021-05-25 16:53:28 +00:00)\n"
     ]
    }
   ],
   "source": [
    "test_data.drop(['num_outbound_cmds'], axis=1, inplace=True)"
   ]
  },
  {
   "cell_type": "code",
   "execution_count": 24,
   "metadata": {
    "execution": {
     "iopub.execute_input": "2021-05-25T16:53:32.684117Z",
     "iopub.status.busy": "2021-05-25T16:53:32.683636Z",
     "iopub.status.idle": "2021-05-25T16:53:32.751726Z",
     "shell.execute_reply": "2021-05-25T16:53:32.750973Z",
     "shell.execute_reply.started": "2021-05-25T16:53:32.684089Z"
    },
    "id": "P_zYcqgJFIJd",
    "outputId": "c45f1bb0-8d3c-4c2a-d941-5e5a3ba8b94a"
   },
   "outputs": [
    {
     "data": {
      "text/html": [
       "<div>\n",
       "<style scoped>\n",
       "    .dataframe tbody tr th:only-of-type {\n",
       "        vertical-align: middle;\n",
       "    }\n",
       "\n",
       "    .dataframe tbody tr th {\n",
       "        vertical-align: top;\n",
       "    }\n",
       "\n",
       "    .dataframe thead th {\n",
       "        text-align: right;\n",
       "    }\n",
       "</style>\n",
       "<table border=\"1\" class=\"dataframe\">\n",
       "  <thead>\n",
       "    <tr style=\"text-align: right;\">\n",
       "      <th></th>\n",
       "      <th>attack_class</th>\n",
       "      <th>frequency_train_percent</th>\n",
       "      <th>attack_class</th>\n",
       "      <th>frequency_test_percent</th>\n",
       "    </tr>\n",
       "  </thead>\n",
       "  <tbody>\n",
       "    <tr>\n",
       "      <th>Normal</th>\n",
       "      <td>67343</td>\n",
       "      <td>53.46</td>\n",
       "      <td>9711</td>\n",
       "      <td>43.08</td>\n",
       "    </tr>\n",
       "    <tr>\n",
       "      <th>DoS</th>\n",
       "      <td>45927</td>\n",
       "      <td>36.46</td>\n",
       "      <td>7458</td>\n",
       "      <td>33.08</td>\n",
       "    </tr>\n",
       "    <tr>\n",
       "      <th>Probe</th>\n",
       "      <td>11656</td>\n",
       "      <td>9.25</td>\n",
       "      <td>2421</td>\n",
       "      <td>10.74</td>\n",
       "    </tr>\n",
       "    <tr>\n",
       "      <th>R2L</th>\n",
       "      <td>995</td>\n",
       "      <td>0.79</td>\n",
       "      <td>2754</td>\n",
       "      <td>12.22</td>\n",
       "    </tr>\n",
       "    <tr>\n",
       "      <th>U2R</th>\n",
       "      <td>52</td>\n",
       "      <td>0.04</td>\n",
       "      <td>200</td>\n",
       "      <td>0.89</td>\n",
       "    </tr>\n",
       "  </tbody>\n",
       "</table>\n",
       "</div>"
      ],
      "text/plain": [
       "        attack_class  frequency_train_percent  attack_class  \\\n",
       "Normal         67343                    53.46          9711   \n",
       "DoS            45927                    36.46          7458   \n",
       "Probe          11656                     9.25          2421   \n",
       "R2L              995                     0.79          2754   \n",
       "U2R               52                     0.04           200   \n",
       "\n",
       "        frequency_test_percent  \n",
       "Normal                   43.08  \n",
       "DoS                      33.08  \n",
       "Probe                    10.74  \n",
       "R2L                      12.22  \n",
       "U2R                       0.89  "
      ]
     },
     "execution_count": 24,
     "metadata": {},
     "output_type": "execute_result"
    },
    {
     "name": "stdout",
     "output_type": "stream",
     "text": [
      "time: 62.7 ms (started: 2021-05-25 16:53:32 +00:00)\n"
     ]
    }
   ],
   "source": [
    "# Attack Class Distribution\n",
    "atk_train = train_data[['attack_class']].apply(lambda x: x.value_counts())\n",
    "atk_test = test_data[['attack_class']].apply(lambda x: x.value_counts())\n",
    "atk_train['frequency_train_percent'] = round((100 * atk_train / atk_train.sum()),2)\n",
    "atk_test['frequency_test_percent'] = round((100 * atk_test / atk_test.sum()),2)\n",
    "\n",
    "atk_dist = pd.concat([atk_train,atk_test], axis=1) \n",
    "atk_dist"
   ]
  },
  {
   "cell_type": "code",
   "execution_count": 25,
   "metadata": {
    "execution": {
     "iopub.execute_input": "2021-05-25T16:53:45.314841Z",
     "iopub.status.busy": "2021-05-25T16:53:45.314360Z",
     "iopub.status.idle": "2021-05-25T16:53:45.486450Z",
     "shell.execute_reply": "2021-05-25T16:53:45.485573Z",
     "shell.execute_reply.started": "2021-05-25T16:53:45.314799Z"
    },
    "id": "3McXqh9hFIFh",
    "outputId": "0ee46937-7cab-4c1c-a7c6-29c4bbaad204"
   },
   "outputs": [
    {
     "data": {
      "image/png": "[encoded data removed]",
      "text/plain": [
       "<Figure size 432x288 with 1 Axes>"
      ]
     },
     "metadata": {
      "needs_background": "light"
     },
     "output_type": "display_data"
    },
    {
     "name": "stdout",
     "output_type": "stream",
     "text": [
      "time: 168 ms (started: 2021-05-25 16:53:45 +00:00)\n"
     ]
    }
   ],
   "source": [
    "# Attack class bar plot\n",
    "plot = atk_dist[['frequency_train_percent', 'frequency_test_percent']].plot(kind=\"bar\");\n",
    "plot.set_title(\"Attack Class Distribution\", fontsize=30);\n",
    "plot.grid(color='lightblue', alpha=1.0);"
   ]
  },
  {
   "cell_type": "code",
   "execution_count": 26,
   "metadata": {
    "execution": {
     "iopub.execute_input": "2021-05-25T16:53:49.374335Z",
     "iopub.status.busy": "2021-05-25T16:53:49.373976Z",
     "iopub.status.idle": "2021-05-25T16:53:49.403020Z",
     "shell.execute_reply": "2021-05-25T16:53:49.402037Z",
     "shell.execute_reply.started": "2021-05-25T16:53:49.374307Z"
    },
    "id": "2OAgyXn0FIEp",
    "outputId": "350a7512-4651-4e8b-e366-4ae7f0fb2abe"
   },
   "outputs": [
    {
     "data": {
      "text/html": [
       "<div>\n",
       "<style scoped>\n",
       "    .dataframe tbody tr th:only-of-type {\n",
       "        vertical-align: middle;\n",
       "    }\n",
       "\n",
       "    .dataframe tbody tr th {\n",
       "        vertical-align: top;\n",
       "    }\n",
       "\n",
       "    .dataframe thead th {\n",
       "        text-align: right;\n",
       "    }\n",
       "</style>\n",
       "<table border=\"1\" class=\"dataframe\">\n",
       "  <thead>\n",
       "    <tr style=\"text-align: right;\">\n",
       "      <th></th>\n",
       "      <th>duration</th>\n",
       "      <th>protocol_type</th>\n",
       "      <th>service</th>\n",
       "      <th>flag</th>\n",
       "      <th>src_bytes</th>\n",
       "      <th>dst_bytes</th>\n",
       "      <th>land</th>\n",
       "      <th>wrong_fragment</th>\n",
       "      <th>urgent</th>\n",
       "      <th>hot</th>\n",
       "      <th>...</th>\n",
       "      <th>dst_host_srv_count</th>\n",
       "      <th>dst_host_same_srv_rate</th>\n",
       "      <th>dst_host_diff_srv_rate</th>\n",
       "      <th>dst_host_same_src_port_rate</th>\n",
       "      <th>dst_host_srv_diff_host_rate</th>\n",
       "      <th>dst_host_serror_rate</th>\n",
       "      <th>dst_host_srv_serror_rate</th>\n",
       "      <th>dst_host_rerror_rate</th>\n",
       "      <th>dst_host_srv_rerror_rate</th>\n",
       "      <th>attack_class</th>\n",
       "    </tr>\n",
       "  </thead>\n",
       "  <tbody>\n",
       "    <tr>\n",
       "      <th>0</th>\n",
       "      <td>0</td>\n",
       "      <td>tcp</td>\n",
       "      <td>ftp_data</td>\n",
       "      <td>SF</td>\n",
       "      <td>491</td>\n",
       "      <td>0</td>\n",
       "      <td>0</td>\n",
       "      <td>0</td>\n",
       "      <td>0</td>\n",
       "      <td>0</td>\n",
       "      <td>...</td>\n",
       "      <td>25</td>\n",
       "      <td>0.17</td>\n",
       "      <td>0.03</td>\n",
       "      <td>0.17</td>\n",
       "      <td>0.00</td>\n",
       "      <td>0.00</td>\n",
       "      <td>0.00</td>\n",
       "      <td>0.05</td>\n",
       "      <td>0.00</td>\n",
       "      <td>Normal</td>\n",
       "    </tr>\n",
       "    <tr>\n",
       "      <th>1</th>\n",
       "      <td>0</td>\n",
       "      <td>udp</td>\n",
       "      <td>other</td>\n",
       "      <td>SF</td>\n",
       "      <td>146</td>\n",
       "      <td>0</td>\n",
       "      <td>0</td>\n",
       "      <td>0</td>\n",
       "      <td>0</td>\n",
       "      <td>0</td>\n",
       "      <td>...</td>\n",
       "      <td>1</td>\n",
       "      <td>0.00</td>\n",
       "      <td>0.60</td>\n",
       "      <td>0.88</td>\n",
       "      <td>0.00</td>\n",
       "      <td>0.00</td>\n",
       "      <td>0.00</td>\n",
       "      <td>0.00</td>\n",
       "      <td>0.00</td>\n",
       "      <td>Normal</td>\n",
       "    </tr>\n",
       "    <tr>\n",
       "      <th>2</th>\n",
       "      <td>0</td>\n",
       "      <td>tcp</td>\n",
       "      <td>private</td>\n",
       "      <td>S0</td>\n",
       "      <td>0</td>\n",
       "      <td>0</td>\n",
       "      <td>0</td>\n",
       "      <td>0</td>\n",
       "      <td>0</td>\n",
       "      <td>0</td>\n",
       "      <td>...</td>\n",
       "      <td>26</td>\n",
       "      <td>0.10</td>\n",
       "      <td>0.05</td>\n",
       "      <td>0.00</td>\n",
       "      <td>0.00</td>\n",
       "      <td>1.00</td>\n",
       "      <td>1.00</td>\n",
       "      <td>0.00</td>\n",
       "      <td>0.00</td>\n",
       "      <td>DoS</td>\n",
       "    </tr>\n",
       "    <tr>\n",
       "      <th>3</th>\n",
       "      <td>0</td>\n",
       "      <td>tcp</td>\n",
       "      <td>http</td>\n",
       "      <td>SF</td>\n",
       "      <td>232</td>\n",
       "      <td>8153</td>\n",
       "      <td>0</td>\n",
       "      <td>0</td>\n",
       "      <td>0</td>\n",
       "      <td>0</td>\n",
       "      <td>...</td>\n",
       "      <td>255</td>\n",
       "      <td>1.00</td>\n",
       "      <td>0.00</td>\n",
       "      <td>0.03</td>\n",
       "      <td>0.04</td>\n",
       "      <td>0.03</td>\n",
       "      <td>0.01</td>\n",
       "      <td>0.00</td>\n",
       "      <td>0.01</td>\n",
       "      <td>Normal</td>\n",
       "    </tr>\n",
       "    <tr>\n",
       "      <th>4</th>\n",
       "      <td>0</td>\n",
       "      <td>tcp</td>\n",
       "      <td>http</td>\n",
       "      <td>SF</td>\n",
       "      <td>199</td>\n",
       "      <td>420</td>\n",
       "      <td>0</td>\n",
       "      <td>0</td>\n",
       "      <td>0</td>\n",
       "      <td>0</td>\n",
       "      <td>...</td>\n",
       "      <td>255</td>\n",
       "      <td>1.00</td>\n",
       "      <td>0.00</td>\n",
       "      <td>0.00</td>\n",
       "      <td>0.00</td>\n",
       "      <td>0.00</td>\n",
       "      <td>0.00</td>\n",
       "      <td>0.00</td>\n",
       "      <td>0.00</td>\n",
       "      <td>Normal</td>\n",
       "    </tr>\n",
       "  </tbody>\n",
       "</table>\n",
       "<p>5 rows × 41 columns</p>\n",
       "</div>"
      ],
      "text/plain": [
       "   duration protocol_type   service flag  src_bytes  dst_bytes  land  \\\n",
       "0         0           tcp  ftp_data   SF        491          0     0   \n",
       "1         0           udp     other   SF        146          0     0   \n",
       "2         0           tcp   private   S0          0          0     0   \n",
       "3         0           tcp      http   SF        232       8153     0   \n",
       "4         0           tcp      http   SF        199        420     0   \n",
       "\n",
       "   wrong_fragment  urgent  hot  ...  dst_host_srv_count  \\\n",
       "0               0       0    0  ...                  25   \n",
       "1               0       0    0  ...                   1   \n",
       "2               0       0    0  ...                  26   \n",
       "3               0       0    0  ...                 255   \n",
       "4               0       0    0  ...                 255   \n",
       "\n",
       "   dst_host_same_srv_rate  dst_host_diff_srv_rate  \\\n",
       "0                    0.17                    0.03   \n",
       "1                    0.00                    0.60   \n",
       "2                    0.10                    0.05   \n",
       "3                    1.00                    0.00   \n",
       "4                    1.00                    0.00   \n",
       "\n",
       "   dst_host_same_src_port_rate  dst_host_srv_diff_host_rate  \\\n",
       "0                         0.17                         0.00   \n",
       "1                         0.88                         0.00   \n",
       "2                         0.00                         0.00   \n",
       "3                         0.03                         0.04   \n",
       "4                         0.00                         0.00   \n",
       "\n",
       "   dst_host_serror_rate  dst_host_srv_serror_rate  dst_host_rerror_rate  \\\n",
       "0                  0.00                      0.00                  0.05   \n",
       "1                  0.00                      0.00                  0.00   \n",
       "2                  1.00                      1.00                  0.00   \n",
       "3                  0.03                      0.01                  0.00   \n",
       "4                  0.00                      0.00                  0.00   \n",
       "\n",
       "   dst_host_srv_rerror_rate  attack_class  \n",
       "0                      0.00        Normal  \n",
       "1                      0.00        Normal  \n",
       "2                      0.00           DoS  \n",
       "3                      0.01        Normal  \n",
       "4                      0.00        Normal  \n",
       "\n",
       "[5 rows x 41 columns]"
      ]
     },
     "execution_count": 26,
     "metadata": {},
     "output_type": "execute_result"
    },
    {
     "name": "stdout",
     "output_type": "stream",
     "text": [
      "time: 24.9 ms (started: 2021-05-25 16:53:49 +00:00)\n"
     ]
    }
   ],
   "source": [
    "train_data.head()"
   ]
  },
  {
   "cell_type": "code",
   "execution_count": 28,
   "metadata": {
    "execution": {
     "iopub.execute_input": "2021-05-25T16:53:56.643939Z",
     "iopub.status.busy": "2021-05-25T16:53:56.643557Z",
     "iopub.status.idle": "2021-05-25T16:53:56.807730Z",
     "shell.execute_reply": "2021-05-25T16:53:56.806805Z",
     "shell.execute_reply.started": "2021-05-25T16:53:56.643893Z"
    },
    "id": "NF32NZhyFIBy",
    "outputId": "a6bb1e2e-1ed7-4d2a-d525-b54a5536fc2d"
   },
   "outputs": [
    {
     "name": "stdout",
     "output_type": "stream",
     "text": [
      "time: 157 ms (started: 2021-05-25 16:53:56 +00:00)\n"
     ]
    }
   ],
   "source": [
    "# Scaling numerical Attributes\n",
    "\n",
    "from sklearn.preprocessing import StandardScaler\n",
    "std_scaler = StandardScaler()\n",
    "\n",
    "# extract numerical attributes from data and scale it to have zero mean and unit variance  \n",
    "clmns = train_data.select_dtypes(include=['float64','int64']).columns\n",
    "scaler_train = std_scaler.fit_transform(train_data.select_dtypes(include=['float64','int64']))\n",
    "scaler_test = std_scaler.fit_transform(test_data.select_dtypes(include=['float64','int64']))\n",
    "\n",
    "# turn the result back to a dataframe\n",
    "scaler_train_frame = pd.DataFrame(scaler_train, columns = clmns)\n",
    "scaler_test_frame = pd.DataFrame(scaler_test, columns = clmns)"
   ]
  },
  {
   "cell_type": "code",
   "execution_count": 29,
   "metadata": {
    "execution": {
     "iopub.execute_input": "2021-05-25T16:54:01.694248Z",
     "iopub.status.busy": "2021-05-25T16:54:01.693911Z",
     "iopub.status.idle": "2021-05-25T16:54:01.893329Z",
     "shell.execute_reply": "2021-05-25T16:54:01.892329Z",
     "shell.execute_reply.started": "2021-05-25T16:54:01.694221Z"
    },
    "id": "rrfSNe_fFH_B",
    "outputId": "7a9b91a8-8fe4-4c4a-8019-bc0a08fc8175"
   },
   "outputs": [
    {
     "name": "stdout",
     "output_type": "stream",
     "text": [
      "time: 193 ms (started: 2021-05-25 16:54:01 +00:00)\n"
     ]
    }
   ],
   "source": [
    "# Encoding of Categorical Attributes\n",
    "\n",
    "from sklearn.preprocessing import LabelEncoder\n",
    "l_encoder = LabelEncoder()\n",
    "\n",
    "# extracting the categorical attributes from both training and testing  datasets \n",
    "categorical_train = train_data.select_dtypes(include=['object']).copy()\n",
    "categorical_test = test_data.select_dtypes(include=['object']).copy()\n",
    "\n",
    "# encoding the categorical attributes\n",
    "train_categorical = categorical_train.apply(l_encoder.fit_transform)\n",
    "test_categorical = categorical_test.apply(l_encoder.fit_transform)\n",
    "\n",
    "# separating target column from encoded data \n",
    "encode_train = train_categorical.drop(['attack_class'], axis=1)\n",
    "encode_test = test_categorical.drop(['attack_class'], axis=1)\n",
    "\n",
    "categorical_Ytrain = train_categorical[['attack_class']].copy()\n",
    "categorical_Ytest = test_categorical[['attack_class']].copy()"
   ]
  },
  {
   "cell_type": "code",
   "execution_count": 31,
   "metadata": {
    "execution": {
     "iopub.execute_input": "2021-05-25T16:55:18.696770Z",
     "iopub.status.busy": "2021-05-25T16:55:18.696419Z",
     "iopub.status.idle": "2021-05-25T16:55:19.087270Z",
     "shell.execute_reply": "2021-05-25T16:55:19.086520Z",
     "shell.execute_reply.started": "2021-05-25T16:55:18.696743Z"
    },
    "id": "t1RXcyYZFH8A",
    "outputId": "4dff36b1-fb03-4e68-f9fa-0ee08b1479f3"
   },
   "outputs": [
    {
     "name": "stdout",
     "output_type": "stream",
     "text": [
      "Original dataset shape Counter({1: 67343, 0: 45927, 2: 11656, 3: 995, 4: 52})\n",
      "Resampled dataset shape Counter({1: 67343, 0: 67343, 3: 67343, 2: 67343, 4: 67343})\n",
      "time: 385 ms (started: 2021-05-25 16:55:18 +00:00)\n"
     ]
    }
   ],
   "source": [
    "# Data Sampling\n",
    "\n",
    "from imblearn.over_sampling import RandomOverSampler \n",
    "from collections import Counter\n",
    "\n",
    "# defining columns and extracting encoded train dataset for sampling \n",
    "scaler_train_frame = train_data.select_dtypes(include=['float64','int64'])\n",
    "ref_class_column = pd.concat([scaler_train_frame, encode_train], axis=1).columns\n",
    "ref_class = np.concatenate((scaler_train, encode_train.values), axis=1)\n",
    "X = ref_class\n",
    "\n",
    "# reshaping target column to 1D array shape  \n",
    "c, r = categorical_Ytest.values.shape\n",
    "y_test = categorical_Ytest.values.reshape(c,)\n",
    "\n",
    "c, r = categorical_Ytrain.values.shape\n",
    "y = categorical_Ytrain.values.reshape(c,)\n",
    "\n",
    "# applying the random over-sampling\n",
    "sampling = RandomOverSampler(random_state=42)\n",
    "X_res, y_res = sampling.fit_resample(X, y)\n",
    "print('Original dataset shape {}'.format(Counter(y)))\n",
    "print('Resampled dataset shape {}'.format(Counter(y_res)))"
   ]
  },
  {
   "cell_type": "markdown",
   "metadata": {
    "id": "I0GJq97N3tBC"
   },
   "source": [
    "# Feature Selection Using RandomForest Classifier Model "
   ]
  },
  {
   "cell_type": "code",
   "execution_count": 32,
   "metadata": {
    "execution": {
     "iopub.execute_input": "2021-05-25T16:55:25.995823Z",
     "iopub.status.busy": "2021-05-25T16:55:25.995420Z",
     "iopub.status.idle": "2021-05-25T16:55:51.193820Z",
     "shell.execute_reply": "2021-05-25T16:55:51.192698Z",
     "shell.execute_reply.started": "2021-05-25T16:55:25.995795Z"
    },
    "id": "AJnO_gaFFH6f",
    "outputId": "34c4cc50-7313-44ed-c39e-c1f969f917a5"
   },
   "outputs": [
    {
     "data": {
      "image/png": "[encoded data removed]",
      "text/plain": [
       "<Figure size 1080x360 with 1 Axes>"
      ]
     },
     "metadata": {
      "needs_background": "light"
     },
     "output_type": "display_data"
    },
    {
     "name": "stdout",
     "output_type": "stream",
     "text": [
      "time: 25.2 s (started: 2021-05-25 16:55:25 +00:00)\n"
     ]
    }
   ],
   "source": [
    "from sklearn.ensemble import RandomForestClassifier\n",
    "random_forest = RandomForestClassifier();\n",
    "\n",
    "# fitting random forest classifier on the training set\n",
    "random_forest.fit(X_res, y_res);\n",
    "# extracting important features\n",
    "scoring = np.round(random_forest.feature_importances_,3)\n",
    "important = pd.DataFrame({'feature':ref_class_column,'importance':scoring})\n",
    "important = important.sort_values('importance',ascending=False).set_index('feature')\n",
    "# plotting important features in bar graph\n",
    "plt.rcParams['figure.figsize'] = (15, 5)\n",
    "important.plot.bar();"
   ]
  },
  {
   "cell_type": "code",
   "execution_count": 34,
   "metadata": {
    "execution": {
     "iopub.execute_input": "2021-05-25T16:59:22.459972Z",
     "iopub.status.busy": "2021-05-25T16:59:22.459454Z",
     "iopub.status.idle": "2021-05-25T17:10:22.317761Z",
     "shell.execute_reply": "2021-05-25T17:10:22.316886Z",
     "shell.execute_reply.started": "2021-05-25T16:59:22.459939Z"
    },
    "id": "Cqpl-cdLFH2l",
    "outputId": "bfe0dfd2-d7fe-409e-d3ee-11958f2fd1c5"
   },
   "outputs": [
    {
     "name": "stdout",
     "output_type": "stream",
     "text": [
      "time: 10min 59s (started: 2021-05-25 16:59:22 +00:00)\n"
     ]
    }
   ],
   "source": [
    "from sklearn.feature_selection import RFE\n",
    "import itertools\n",
    "random_forest = RandomForestClassifier()\n",
    "\n",
    "# creating the RFE model and selecting 10 attributes\n",
    "random_feature = RFE(random_forest, n_features_to_select=10)\n",
    "random_forest = random_feature.fit(X_res, y_res)\n",
    "\n",
    "# summarizing the selection of the attributes\n",
    "feature_mapping = [(j, w) for j, w in itertools.zip_longest(random_feature.get_support(), ref_class_column)]\n",
    "features = [w for j, w in feature_mapping if j==True]"
   ]
  },
  {
   "cell_type": "code",
   "execution_count": 35,
   "metadata": {
    "execution": {
     "iopub.execute_input": "2021-05-25T17:10:39.788331Z",
     "iopub.status.busy": "2021-05-25T17:10:39.787984Z",
     "iopub.status.idle": "2021-05-25T17:10:39.794163Z",
     "shell.execute_reply": "2021-05-25T17:10:39.793268Z",
     "shell.execute_reply.started": "2021-05-25T17:10:39.788305Z"
    },
    "id": "2kOT8rjFFH1G",
    "outputId": "3bdf8995-7676-4daa-f881-b5f23e01e924"
   },
   "outputs": [
    {
     "data": {
      "text/plain": [
       "['src_bytes',\n",
       " 'dst_bytes',\n",
       " 'logged_in',\n",
       " 'count',\n",
       " 'serror_rate',\n",
       " 'dst_host_srv_count',\n",
       " 'dst_host_diff_srv_rate',\n",
       " 'dst_host_same_src_port_rate',\n",
       " 'dst_host_serror_rate',\n",
       " 'service']"
      ]
     },
     "execution_count": 35,
     "metadata": {},
     "output_type": "execute_result"
    },
    {
     "name": "stdout",
     "output_type": "stream",
     "text": [
      "time: 2.55 ms (started: 2021-05-25 17:10:39 +00:00)\n"
     ]
    }
   ],
   "source": [
    "features"
   ]
  },
  {
   "cell_type": "markdown",
   "metadata": {
    "id": "RU9xR2iEXSC1"
   },
   "source": [
    "# Dataset Partition"
   ]
  },
  {
   "cell_type": "code",
   "execution_count": 36,
   "metadata": {
    "execution": {
     "iopub.execute_input": "2021-05-25T17:10:43.707574Z",
     "iopub.status.busy": "2021-05-25T17:10:43.707224Z",
     "iopub.status.idle": "2021-05-25T17:10:43.765419Z",
     "shell.execute_reply": "2021-05-25T17:10:43.764446Z",
     "shell.execute_reply.started": "2021-05-25T17:10:43.707546Z"
    },
    "id": "V-8LEUhDFHw2",
    "outputId": "63b3ceba-fc46-47ba-dc43-45296eab84d7"
   },
   "outputs": [
    {
     "data": {
      "text/plain": [
       "(336715, 41)"
      ]
     },
     "execution_count": 36,
     "metadata": {},
     "output_type": "execute_result"
    },
    {
     "name": "stdout",
     "output_type": "stream",
     "text": [
      "time: 51.3 ms (started: 2021-05-25 17:10:43 +00:00)\n"
     ]
    }
   ],
   "source": [
    "# defining columns to a new dataframe\n",
    "new_column = list(ref_class_column)\n",
    "new_column.append('attack_class')\n",
    "\n",
    "# adding a dimension to target\n",
    "new_y_res = y_res[:, np.newaxis]\n",
    "\n",
    "# creating a dataframe from sampled data\n",
    "res_array = np.concatenate((X_res, new_y_res), axis=1)\n",
    "res_data_frame = pd.DataFrame(res_array, columns = new_column) \n",
    "\n",
    "# creating test dataframe\n",
    "test_ref = pd.concat([scaler_test_frame, test_categorical], axis=1)\n",
    "test_ref['attack_class'] = test_ref['attack_class'].astype(np.float64)\n",
    "test_ref['protocol_type'] = test_ref['protocol_type'].astype(np.float64)\n",
    "test_ref['flag'] = test_ref['flag'].astype(np.float64)\n",
    "test_ref['service'] = test_ref['service'].astype(np.float64)\n",
    "\n",
    "res_data_frame.shape\n"
   ]
  },
  {
   "cell_type": "code",
   "execution_count": 37,
   "metadata": {
    "execution": {
     "iopub.execute_input": "2021-05-25T17:10:49.177960Z",
     "iopub.status.busy": "2021-05-25T17:10:49.177610Z",
     "iopub.status.idle": "2021-05-25T17:10:49.182958Z",
     "shell.execute_reply": "2021-05-25T17:10:49.182166Z",
     "shell.execute_reply.started": "2021-05-25T17:10:49.177929Z"
    },
    "id": "9TbN4HQhFHv_",
    "outputId": "bc119bfa-df04-401b-972e-6b6384cf4c49"
   },
   "outputs": [
    {
     "data": {
      "text/plain": [
       "(22544, 41)"
      ]
     },
     "execution_count": 37,
     "metadata": {},
     "output_type": "execute_result"
    },
    {
     "name": "stdout",
     "output_type": "stream",
     "text": [
      "time: 1.86 ms (started: 2021-05-25 17:10:49 +00:00)\n"
     ]
    }
   ],
   "source": [
    "test_ref.shape"
   ]
  },
  {
   "cell_type": "code",
   "execution_count": 38,
   "metadata": {
    "execution": {
     "iopub.execute_input": "2021-05-25T17:10:52.588371Z",
     "iopub.status.busy": "2021-05-25T17:10:52.588048Z",
     "iopub.status.idle": "2021-05-25T17:10:52.715322Z",
     "shell.execute_reply": "2021-05-25T17:10:52.714589Z",
     "shell.execute_reply.started": "2021-05-25T17:10:52.588343Z"
    },
    "id": "LMUYbSrpFHsQ",
    "outputId": "2cc1e27c-2738-443e-a7be-9554a07b35cb"
   },
   "outputs": [
    {
     "name": "stdout",
     "output_type": "stream",
     "text": [
      "time: 121 ms (started: 2021-05-25 17:10:52 +00:00)\n"
     ]
    }
   ],
   "source": [
    "from collections import defaultdict\n",
    "class_dict = defaultdict(list)\n",
    "\n",
    "# creating two-target classes: normal class and an attack class\n",
    "atk_list = [('DoS', 0.0), ('Probe', 2.0), ('R2L', 3.0), ('U2R', 4.0)]\n",
    "nrml_class = [('Normal', 1.0)]\n",
    "\n",
    "def create_class_dict():\n",
    "    '''This function subdivides train and test dataset into two-class attack labels''' \n",
    "    for i, l in nrml_class: \n",
    "        for j, w in atk_list: \n",
    "            res_train_set = res_data_frame.loc[(res_data_frame['attack_class'] == l) | (res_data_frame['attack_class'] == w)]\n",
    "            class_dict[i +'_' + j].append(res_train_set)\n",
    "            # test labels\n",
    "            ref_test_set = test_ref.loc[(test_ref['attack_class'] == l) | (test_ref['attack_class'] == w)]\n",
    "            class_dict[i +'_' + j].append(ref_test_set)\n",
    "        \n",
    "create_class_dict()"
   ]
  },
  {
   "cell_type": "code",
   "execution_count": 39,
   "metadata": {
    "execution": {
     "iopub.execute_input": "2021-05-25T17:10:56.427535Z",
     "iopub.status.busy": "2021-05-25T17:10:56.427219Z",
     "iopub.status.idle": "2021-05-25T17:10:56.433516Z",
     "shell.execute_reply": "2021-05-25T17:10:56.432504Z",
     "shell.execute_reply.started": "2021-05-25T17:10:56.427509Z"
    },
    "id": "LkoPkh2knopF",
    "outputId": "9b7f067d-06ae-4a98-f78f-33a0af4e6c12"
   },
   "outputs": [
    {
     "name": "stdout",
     "output_type": "stream",
     "text": [
      "time: 486 µs (started: 2021-05-25 17:10:56 +00:00)\n"
     ]
    }
   ],
   "source": [
    "pre_train = class_dict['Normal_DoS'][0]\n",
    "pre_test = class_dict['Normal_DoS'][0]\n",
    "group_class = 'Normal_DoS'"
   ]
  },
  {
   "cell_type": "code",
   "execution_count": 40,
   "metadata": {
    "execution": {
     "iopub.execute_input": "2021-05-25T17:10:59.218438Z",
     "iopub.status.busy": "2021-05-25T17:10:59.218134Z",
     "iopub.status.idle": "2021-05-25T17:10:59.571489Z",
     "shell.execute_reply": "2021-05-25T17:10:59.570854Z",
     "shell.execute_reply.started": "2021-05-25T17:10:59.218412Z"
    },
    "id": "rFNJ-V9wnofq",
    "outputId": "024c048b-884d-4ff4-d782-76c7441119cd"
   },
   "outputs": [
    {
     "name": "stdout",
     "output_type": "stream",
     "text": [
      "time: 346 ms (started: 2021-05-25 17:10:59 +00:00)\n"
     ]
    }
   ],
   "source": [
    "# Finalizing data preprocessing for training\n",
    "\n",
    "from sklearn.preprocessing import OneHotEncoder\n",
    "one_hot_encoder = OneHotEncoder()\n",
    "\n",
    "X_res_data_frame = pre_train \n",
    "new_test = pre_test\n",
    "\n",
    "X_res_data_frame_new = X_res_data_frame[features]\n",
    "X_res_data_frame_num = X_res_data_frame_new.drop(['service'], axis=1)\n",
    "X_res_data_frame_cat = X_res_data_frame_new[['service']].copy()\n",
    "\n",
    "X_test_features = new_test[features]\n",
    "X_test_data_frame_num = X_test_features.drop(['service'], axis=1)\n",
    "X_test_cat = X_test_features[['service']].copy()\n",
    "\n",
    "# Fitting training data\n",
    "one_hot_encoder.fit(X_res_data_frame_cat)\n",
    "\n",
    "# Transforming training data\n",
    "X_train_one_hotencoder = one_hot_encoder.transform(X_res_data_frame_cat).toarray()\n",
    "       \n",
    "# Transforming testing data\n",
    "X_test_one_hotencoder = one_hot_encoder.transform(X_test_cat).toarray()\n",
    "\n",
    "X_train_dataframe = np.concatenate((X_res_data_frame_num.values, X_train_one_hotencoder), axis=1)\n",
    "X_test_dataframe = np.concatenate((X_test_data_frame_num.values, X_test_one_hotencoder), axis=1) \n",
    "\n",
    "y_train_dataframe = X_res_data_frame[['attack_class']].copy()\n",
    "c, r = y_train_dataframe.values.shape\n",
    "Y_train_dataframe = y_train_dataframe.values.reshape(c,)\n",
    "\n",
    "y_test_dataframe = new_test[['attack_class']].copy()\n",
    "c, r = y_test_dataframe.values.shape\n",
    "Y_test_dataframe = y_test_dataframe.values.reshape(c,)\n"
   ]
  },
  {
   "cell_type": "markdown",
   "metadata": {
    "id": "2QRfiupd4kRK"
   },
   "source": [
    "# Training Using pyGAM And Different Classifier Models\n",
    "\n"
   ]
  },
  {
   "cell_type": "code",
   "execution_count": 41,
   "metadata": {
    "execution": {
     "iopub.execute_input": "2021-05-25T17:11:05.267809Z",
     "iopub.status.busy": "2021-05-25T17:11:05.267254Z",
     "iopub.status.idle": "2021-05-25T17:54:33.827527Z",
     "shell.execute_reply": "2021-05-25T17:54:33.826502Z",
     "shell.execute_reply.started": "2021-05-25T17:11:05.267776Z"
    },
    "id": "cFrPCo1F3_s8",
    "outputId": "4ae303e3-5aac-4a23-a4af-1ee886762785"
   },
   "outputs": [
    {
     "name": "stdout",
     "output_type": "stream",
     "text": [
      "time: 43min 28s (started: 2021-05-25 17:11:05 +00:00)\n"
     ]
    }
   ],
   "source": [
    "from pygam import LogisticGAM\n",
    "import time\n",
    "# Logistic GAM\n",
    "Logistic_gam = LogisticGAM()\n",
    "Logistic_gam.fit(X_train_dataframe, Y_train_dataframe);\n"
   ]
  },
  {
   "cell_type": "code",
   "execution_count": 42,
   "metadata": {
    "execution": {
     "iopub.execute_input": "2021-05-25T17:54:44.740377Z",
     "iopub.status.busy": "2021-05-25T17:54:44.740001Z",
     "iopub.status.idle": "2021-05-25T17:54:45.525558Z",
     "shell.execute_reply": "2021-05-25T17:54:45.524501Z",
     "shell.execute_reply.started": "2021-05-25T17:54:44.740348Z"
    },
    "id": "AUz1aSxFUvvJ",
    "outputId": "c4018cb7-0c15-405d-9720-1a1ac1bcf3fe"
   },
   "outputs": [
    {
     "data": {
      "image/png": "[encoded data removed]",
      "text/plain": [
       "<Figure size 1080x360 with 7 Axes>"
      ]
     },
     "metadata": {
      "needs_background": "light"
     },
     "output_type": "display_data"
    },
    {
     "name": "stdout",
     "output_type": "stream",
     "text": [
      "time: 775 ms (started: 2021-05-25 17:54:44 +00:00)\n"
     ]
    }
   ],
   "source": [
    "fig, axs = plt.subplots(1, 7)\n",
    "titles = ['duration', 'src_bytes', 'dst_bytes', 'land', 'wrong_fragment', 'urgent', 'hot']\n",
    "\n",
    "for i, w in enumerate(axs):\n",
    "    u = Logistic_gam.generate_X_grid(term=i)\n",
    "    pdep, confi = Logistic_gam.partial_dependence(term=i, width=.95)\n",
    "\n",
    "    w.plot(u[:, i], pdep)\n",
    "    w.plot(u[:, i], confi, c='grey', ls='--')\n",
    "    w.set_title(titles[i]);"
   ]
  },
  {
   "cell_type": "code",
   "execution_count": 43,
   "metadata": {
    "execution": {
     "iopub.execute_input": "2021-05-25T17:54:50.388430Z",
     "iopub.status.busy": "2021-05-25T17:54:50.388109Z",
     "iopub.status.idle": "2021-05-25T17:54:50.396664Z",
     "shell.execute_reply": "2021-05-25T17:54:50.395592Z",
     "shell.execute_reply.started": "2021-05-25T17:54:50.388403Z"
    },
    "id": "etTgdfDTwLL8",
    "outputId": "462b1d46-b3b1-4551-c50b-60227973225c"
   },
   "outputs": [
    {
     "name": "stdout",
     "output_type": "stream",
     "text": [
      "time: 4.06 ms (started: 2021-05-25 17:54:50 +00:00)\n"
     ]
    }
   ],
   "source": [
    "from sklearn.svm import SVC \n",
    "from sklearn.naive_bayes import BernoulliNB \n",
    "from sklearn.neighbors import KNeighborsClassifier\n",
    "from sklearn.ensemble import VotingClassifier"
   ]
  },
  {
   "cell_type": "code",
   "execution_count": 44,
   "metadata": {
    "execution": {
     "iopub.execute_input": "2021-05-25T17:54:53.458328Z",
     "iopub.status.busy": "2021-05-25T17:54:53.457991Z",
     "iopub.status.idle": "2021-05-25T17:54:53.488658Z",
     "shell.execute_reply": "2021-05-25T17:54:53.487796Z",
     "shell.execute_reply.started": "2021-05-25T17:54:53.458299Z"
    },
    "id": "e6_94kZX2m6r",
    "outputId": "78193511-9245-400c-c41f-e982d3e15577"
   },
   "outputs": [
    {
     "name": "stdout",
     "output_type": "stream",
     "text": [
      "time: 26.1 ms (started: 2021-05-25 17:54:53 +00:00)\n"
     ]
    }
   ],
   "source": [
    "# Train KNeighbors Classifier Model\n",
    "\n",
    "KNeighbors_Classifier = KNeighborsClassifier(n_jobs=-1)\n",
    "KNeighbors_Classifier.fit(X_train_dataframe, Y_train_dataframe); "
   ]
  },
  {
   "cell_type": "code",
   "execution_count": 45,
   "metadata": {
    "execution": {
     "iopub.execute_input": "2021-05-25T17:54:56.979180Z",
     "iopub.status.busy": "2021-05-25T17:54:56.978636Z",
     "iopub.status.idle": "2021-05-25T17:54:57.117127Z",
     "shell.execute_reply": "2021-05-25T17:54:57.116213Z",
     "shell.execute_reply.started": "2021-05-25T17:54:56.979148Z"
    },
    "id": "68_xqsiq2muY",
    "outputId": "0d9605b0-c714-4da0-8619-923698b20839"
   },
   "outputs": [
    {
     "data": {
      "text/plain": [
       "BernoulliNB()"
      ]
     },
     "execution_count": 45,
     "metadata": {},
     "output_type": "execute_result"
    },
    {
     "name": "stdout",
     "output_type": "stream",
     "text": [
      "time: 134 ms (started: 2021-05-25 17:54:56 +00:00)\n"
     ]
    }
   ],
   "source": [
    "# Train Gaussian Naive Baye Model\n",
    "\n",
    "Naive_Baye_Classifier = BernoulliNB()\n",
    "Naive_Baye_Classifier.fit(X_train_dataframe, Y_train_dataframe)"
   ]
  },
  {
   "cell_type": "code",
   "execution_count": 46,
   "metadata": {
    "execution": {
     "iopub.execute_input": "2021-05-25T17:55:00.588215Z",
     "iopub.status.busy": "2021-05-25T17:55:00.587862Z",
     "iopub.status.idle": "2021-05-25T17:56:59.589784Z",
     "shell.execute_reply": "2021-05-25T17:56:59.588762Z",
     "shell.execute_reply.started": "2021-05-25T17:55:00.588184Z"
    },
    "id": "KCA4MMif2mg2",
    "outputId": "20902d2e-4696-4634-c142-aafa687e11f5"
   },
   "outputs": [
    {
     "data": {
      "text/plain": [
       "SVC(random_state=0)"
      ]
     },
     "execution_count": 46,
     "metadata": {},
     "output_type": "execute_result"
    },
    {
     "name": "stdout",
     "output_type": "stream",
     "text": [
      "time: 1min 58s (started: 2021-05-25 17:55:00 +00:00)\n"
     ]
    }
   ],
   "source": [
    "# Train Support Vector Machine Model\n",
    "\n",
    "Support_vector_Classifier = SVC(random_state=0)\n",
    "Support_vector_Classifier.fit(X_train_dataframe, Y_train_dataframe)"
   ]
  },
  {
   "cell_type": "code",
   "execution_count": 47,
   "metadata": {
    "execution": {
     "iopub.execute_input": "2021-05-25T17:57:09.158394Z",
     "iopub.status.busy": "2021-05-25T17:57:09.158067Z",
     "iopub.status.idle": "2021-05-25T17:57:13.163682Z",
     "shell.execute_reply": "2021-05-25T17:57:13.162744Z",
     "shell.execute_reply.started": "2021-05-25T17:57:09.158366Z"
    },
    "id": "mk3to3Bh2fhh",
    "outputId": "0ecc9b22-a2d8-4201-8b2b-5a6d87b2cfe8"
   },
   "outputs": [
    {
     "name": "stdout",
     "output_type": "stream",
     "text": [
      "time: 4 s (started: 2021-05-25 17:57:09 +00:00)\n"
     ]
    }
   ],
   "source": [
    "# Train RandomForestClassifier Model\n",
    "\n",
    "Random_Forest_Classifier = RandomForestClassifier(criterion='entropy', n_jobs=-1, random_state=0)\n",
    "Random_Forest_Classifier.fit(X_train_dataframe, Y_train_dataframe); "
   ]
  },
  {
   "cell_type": "code",
   "execution_count": 48,
   "metadata": {
    "execution": {
     "iopub.execute_input": "2021-05-25T17:57:23.719361Z",
     "iopub.status.busy": "2021-05-25T17:57:23.719048Z",
     "iopub.status.idle": "2021-05-25T17:57:30.118189Z",
     "shell.execute_reply": "2021-05-25T17:57:30.116903Z",
     "shell.execute_reply.started": "2021-05-25T17:57:23.719336Z"
    },
    "id": "7FSX-sSB2fN8",
    "outputId": "18a22317-cccc-479a-bda0-717f6c849e7d"
   },
   "outputs": [
    {
     "name": "stdout",
     "output_type": "stream",
     "text": [
      "time: 6.39 s (started: 2021-05-25 17:57:23 +00:00)\n"
     ]
    }
   ],
   "source": [
    "# Train Combined Models 1\n",
    "\n",
    "model1 = [('Random Forest Classifier', Random_Forest_Classifier), ('KNN Classifier', KNeighbors_Classifier)]\n",
    "model_1 = VotingClassifier(estimators = model1,voting = 'soft', n_jobs=-1)\n",
    "model_1.fit(X_train_dataframe, Y_train_dataframe);"
   ]
  },
  {
   "cell_type": "code",
   "execution_count": 49,
   "metadata": {
    "execution": {
     "iopub.execute_input": "2021-05-25T17:57:36.138792Z",
     "iopub.status.busy": "2021-05-25T17:57:36.138219Z",
     "iopub.status.idle": "2021-05-25T17:57:41.076105Z",
     "shell.execute_reply": "2021-05-25T17:57:41.074865Z",
     "shell.execute_reply.started": "2021-05-25T17:57:36.138755Z"
    },
    "id": "ri6OoTFE2e9_",
    "outputId": "0869511c-6927-4169-f75a-89fc630bf9ae"
   },
   "outputs": [
    {
     "name": "stdout",
     "output_type": "stream",
     "text": [
      "time: 4.93 s (started: 2021-05-25 17:57:36 +00:00)\n"
     ]
    }
   ],
   "source": [
    "# Train Combined Models 2\n",
    "\n",
    "model2 = [('Random Forest Classifier', Random_Forest_Classifier), ('Gaussian Naive Baye Classifier', Naive_Baye_Classifier)]\n",
    "model_2 = VotingClassifier(estimators = model2,voting = 'soft', n_jobs=-1)\n",
    "model_2.fit(X_train_dataframe, Y_train_dataframe);"
   ]
  },
  {
   "cell_type": "markdown",
   "metadata": {
    "id": "mIrMlReRwBZb"
   },
   "source": [
    "# AUC-ROC Curve"
   ]
  },
  {
   "cell_type": "code",
   "execution_count": 50,
   "metadata": {
    "execution": {
     "iopub.execute_input": "2021-05-25T17:58:02.989730Z",
     "iopub.status.busy": "2021-05-25T17:58:02.989353Z",
     "iopub.status.idle": "2021-05-25T18:06:19.297038Z",
     "shell.execute_reply": "2021-05-25T18:06:19.295963Z",
     "shell.execute_reply.started": "2021-05-25T17:58:02.989701Z"
    },
    "id": "FdRdf_MZI2Uo",
    "outputId": "55169519-48d6-4653-f456-4d53f692cfe8"
   },
   "outputs": [
    {
     "name": "stdout",
     "output_type": "stream",
     "text": [
      "No Skill: ROC AUC=0.500\n",
      "Logistic: ROC AUC=1.000\n"
     ]
    },
    {
     "data": {
      "image/png": "[encoded data removed]",
      "text/plain": [
       "<Figure size 1080x360 with 1 Axes>"
      ]
     },
     "metadata": {
      "needs_background": "light"
     },
     "output_type": "display_data"
    },
    {
     "name": "stdout",
     "output_type": "stream",
     "text": [
      "time: 8min 16s (started: 2021-05-25 17:58:02 +00:00)\n"
     ]
    }
   ],
   "source": [
    "# ROC curve for Random Forest Classifier and KNN Classifier\n",
    "\n",
    "\n",
    "from sklearn.metrics import roc_curve\n",
    "from sklearn.metrics import roc_auc_score\n",
    "from matplotlib import pyplot\n",
    "\n",
    "probability1 = [0 for _ in range(len(Y_test_dataframe))]\n",
    "\n",
    "probability2 = model_1.predict_proba(X_test_dataframe)\n",
    "probability2 = probability2[:, 1]\n",
    "\n",
    "auc1 = roc_auc_score(Y_test_dataframe, probability1)\n",
    "auc2 = roc_auc_score(Y_test_dataframe, probability2)\n",
    "\n",
    "print('No Skill: ROC AUC=%.3f' % (auc1))\n",
    "print('Logistic: ROC AUC=%.3f' % (auc2))\n",
    "\n",
    "f_probability_1, t_probability_1, _ = roc_curve(Y_test_dataframe, probability1)\n",
    "f_probability_2, t_probability_2, _ = roc_curve(Y_test_dataframe, probability2)\n",
    "\n",
    "pyplot.plot(f_probability_1, t_probability_1, linestyle='--', label='No Skill')\n",
    "pyplot.plot(f_probability_2, t_probability_2, marker='.', label='Logistic')\n",
    "\n",
    "pyplot.xlabel('False Positive Rate')\n",
    "pyplot.ylabel('True Positive Rate')\n",
    "\n",
    "pyplot.legend()\n",
    "pyplot.show()\n"
   ]
  },
  {
   "cell_type": "code",
   "execution_count": 51,
   "metadata": {
    "execution": {
     "iopub.execute_input": "2021-05-25T18:06:27.480856Z",
     "iopub.status.busy": "2021-05-25T18:06:27.480390Z",
     "iopub.status.idle": "2021-05-25T18:06:28.540190Z",
     "shell.execute_reply": "2021-05-25T18:06:28.539093Z",
     "shell.execute_reply.started": "2021-05-25T18:06:27.480774Z"
    },
    "id": "WCR8UVEXI2GV",
    "outputId": "224408d7-976c-4fc6-8793-36ba73064ed2"
   },
   "outputs": [
    {
     "name": "stdout",
     "output_type": "stream",
     "text": [
      "No Skill: ROC AUC=0.500\n",
      "Logistic: ROC AUC=1.000\n"
     ]
    },
    {
     "data": {
      "image/png": "[encoded data removed]",
      "text/plain": [
       "<Figure size 1080x360 with 1 Axes>"
      ]
     },
     "metadata": {
      "needs_background": "light"
     },
     "output_type": "display_data"
    },
    {
     "name": "stdout",
     "output_type": "stream",
     "text": [
      "time: 1.05 s (started: 2021-05-25 18:06:27 +00:00)\n"
     ]
    }
   ],
   "source": [
    "# ROC curve for Random Forest Classifier and Naive Baye Classifier\n",
    "\n",
    "\n",
    "from sklearn.metrics import roc_curve\n",
    "from sklearn.metrics import roc_auc_score\n",
    "from matplotlib import pyplot\n",
    "\n",
    "probability1 = [0 for _ in range(len(Y_test_dataframe))]\n",
    "\n",
    "probability2 = model_2.predict_proba(X_test_dataframe)\n",
    "probability2 = probability2[:, 1]\n",
    "\n",
    "auc1 = roc_auc_score(Y_test_dataframe, probability1)\n",
    "auc2 = roc_auc_score(Y_test_dataframe, probability2)\n",
    "\n",
    "print('No Skill: ROC AUC=%.3f' % (auc1))\n",
    "print('Logistic: ROC AUC=%.3f' % (auc2))\n",
    "\n",
    "f_probability_1, t_probability_1, _ = roc_curve(Y_test_dataframe, probability1)\n",
    "f_probability_2, t_probability_2, _ = roc_curve(Y_test_dataframe, probability2)\n",
    "\n",
    "pyplot.plot(f_probability_1, t_probability_1, linestyle='--', label='No Skill')\n",
    "pyplot.plot(f_probability_2, t_probability_2, marker='.', label='Logistic')\n",
    "\n",
    "pyplot.xlabel('False Positive Rate')\n",
    "pyplot.ylabel('True Positive Rate')\n",
    "\n",
    "pyplot.legend()\n",
    "pyplot.show()\n"
   ]
  },
  {
   "cell_type": "code",
   "execution_count": 52,
   "metadata": {
    "execution": {
     "iopub.execute_input": "2021-05-25T18:06:33.848938Z",
     "iopub.status.busy": "2021-05-25T18:06:33.848561Z",
     "iopub.status.idle": "2021-05-25T18:06:34.690670Z",
     "shell.execute_reply": "2021-05-25T18:06:34.689763Z",
     "shell.execute_reply.started": "2021-05-25T18:06:33.848907Z"
    },
    "id": "35LHLYMmUNEA",
    "outputId": "c1c5576b-33ea-4309-f8c8-b4db21c302d3"
   },
   "outputs": [
    {
     "name": "stdout",
     "output_type": "stream",
     "text": [
      "No Skill: ROC AUC=0.500\n",
      "Logistic: ROC AUC=1.000\n"
     ]
    },
    {
     "data": {
      "image/png": "[encoded data removed]",
      "text/plain": [
       "<Figure size 1080x360 with 1 Axes>"
      ]
     },
     "metadata": {
      "needs_background": "light"
     },
     "output_type": "display_data"
    },
    {
     "name": "stdout",
     "output_type": "stream",
     "text": [
      "time: 832 ms (started: 2021-05-25 18:06:33 +00:00)\n"
     ]
    }
   ],
   "source": [
    "# ROC curve for Random Forest Classifier\n",
    "\n",
    "from sklearn.metrics import roc_curve\n",
    "from sklearn.metrics import roc_auc_score\n",
    "from matplotlib import pyplot\n",
    "\n",
    "probability1 = [0 for _ in range(len(Y_test_dataframe))]\n",
    "\n",
    "probability2 = Random_Forest_Classifier.predict_proba(X_test_dataframe)\n",
    "probability2 = probability2[:, 1]\n",
    "\n",
    "auc1 = roc_auc_score(Y_test_dataframe, probability1)\n",
    "auc2 = roc_auc_score(Y_test_dataframe, probability2)\n",
    "\n",
    "print('No Skill: ROC AUC=%.3f' % (auc1))\n",
    "print('Logistic: ROC AUC=%.3f' % (auc2))\n",
    "\n",
    "f_probability_1, t_probability_1, _ = roc_curve(Y_test_dataframe, probability1)\n",
    "f_probability_2, t_probability_2, _ = roc_curve(Y_test_dataframe, probability2)\n",
    "\n",
    "pyplot.plot(f_probability_1, t_probability_1, linestyle='--', label='No Skill')\n",
    "pyplot.plot(f_probability_2, t_probability_2, marker='.', label='Logistic')\n",
    "\n",
    "pyplot.xlabel('False Positive Rate')\n",
    "pyplot.ylabel('True Positive Rate')\n",
    "\n",
    "pyplot.legend()\n",
    "pyplot.show()\n"
   ]
  },
  {
   "cell_type": "code",
   "execution_count": 53,
   "metadata": {
    "execution": {
     "iopub.execute_input": "2021-05-25T18:06:51.639682Z",
     "iopub.status.busy": "2021-05-25T18:06:51.639304Z",
     "iopub.status.idle": "2021-05-25T18:27:33.248137Z",
     "shell.execute_reply": "2021-05-25T18:27:33.247117Z",
     "shell.execute_reply.started": "2021-05-25T18:06:51.639651Z"
    },
    "id": "QuW3DQTAZwtK",
    "outputId": "4bb43ea4-cb89-4312-891f-115f35888c07"
   },
   "outputs": [
    {
     "name": "stdout",
     "output_type": "stream",
     "text": [
      "No Skill: ROC AUC=0.500\n",
      "Logistic: ROC AUC=0.999\n"
     ]
    },
    {
     "data": {
      "image/png": "[encoded data removed]",
      "text/plain": [
       "<Figure size 1080x360 with 1 Axes>"
      ]
     },
     "metadata": {
      "needs_background": "light"
     },
     "output_type": "display_data"
    },
    {
     "name": "stdout",
     "output_type": "stream",
     "text": [
      "time: 20min 41s (started: 2021-05-25 18:06:51 +00:00)\n"
     ]
    }
   ],
   "source": [
    "# ROC curve for SVM Classifier\n",
    "\n",
    "from sklearn.metrics import roc_curve\n",
    "from sklearn.metrics import roc_auc_score\n",
    "from matplotlib import pyplot\n",
    "from sklearn.calibration import CalibratedClassifierCV\n",
    "\n",
    "probability1 = [0 for _ in range(len(Y_test_dataframe))]\n",
    "\n",
    "model_svc = SVC(random_state=0)\n",
    "model = CalibratedClassifierCV(model_svc)\n",
    "model.fit(X_train_dataframe, Y_train_dataframe)\n",
    "\n",
    "probability2 = model.predict_proba(X_test_dataframe)\n",
    "probability2 = probability2[:, 1]\n",
    "\n",
    "auc1 = roc_auc_score(Y_test_dataframe, probability1)\n",
    "auc2 = roc_auc_score(Y_test_dataframe, probability2)\n",
    "\n",
    "print('No Skill: ROC AUC=%.3f' % (auc1))\n",
    "print('Logistic: ROC AUC=%.3f' % (auc2))\n",
    "\n",
    "f_probability_1, t_probability_1, _ = roc_curve(Y_test_dataframe, probability1)\n",
    "f_probability_2, t_probability_2, _ = roc_curve(Y_test_dataframe, probability2)\n",
    "\n",
    "pyplot.plot(f_probability_1, t_probability_1, linestyle='--', label='No Skill')\n",
    "pyplot.plot(f_probability_2, t_probability_2, marker='.', label='Logistic')\n",
    "\n",
    "pyplot.xlabel('False Positive Rate')\n",
    "pyplot.ylabel('True Positive Rate')\n",
    "\n",
    "pyplot.legend()\n",
    "pyplot.show()\n"
   ]
  },
  {
   "cell_type": "code",
   "execution_count": 54,
   "metadata": {
    "execution": {
     "iopub.execute_input": "2021-05-25T18:28:40.179331Z",
     "iopub.status.busy": "2021-05-25T18:28:40.178899Z",
     "iopub.status.idle": "2021-05-25T18:28:40.689972Z",
     "shell.execute_reply": "2021-05-25T18:28:40.688694Z",
     "shell.execute_reply.started": "2021-05-25T18:28:40.179297Z"
    },
    "id": "PIJ2C7-DZxMa",
    "outputId": "7d52920c-769d-4268-ebcf-2aca57907606"
   },
   "outputs": [
    {
     "name": "stdout",
     "output_type": "stream",
     "text": [
      "No Skill: ROC AUC=0.500\n",
      "Logistic: ROC AUC=0.992\n"
     ]
    },
    {
     "data": {
      "image/png": "[encoded data removed]",
      "text/plain": [
       "<Figure size 1080x360 with 1 Axes>"
      ]
     },
     "metadata": {
      "needs_background": "light"
     },
     "output_type": "display_data"
    },
    {
     "name": "stdout",
     "output_type": "stream",
     "text": [
      "time: 501 ms (started: 2021-05-25 18:28:40 +00:00)\n"
     ]
    }
   ],
   "source": [
    "# ROC curve for Naive Baye Classifier\n",
    "\n",
    "\n",
    "\n",
    "from sklearn.metrics import roc_curve\n",
    "from sklearn.metrics import roc_auc_score\n",
    "from matplotlib import pyplot\n",
    "\n",
    "probability1 = [0 for _ in range(len(Y_test_dataframe))]\n",
    "\n",
    "probability2 = Naive_Baye_Classifier.predict_proba(X_test_dataframe)\n",
    "probability2 = probability2[:, 1]\n",
    "\n",
    "auc1 = roc_auc_score(Y_test_dataframe, probability1)\n",
    "auc2 = roc_auc_score(Y_test_dataframe, probability2)\n",
    "\n",
    "print('No Skill: ROC AUC=%.3f' % (auc1))\n",
    "print('Logistic: ROC AUC=%.3f' % (auc2))\n",
    "\n",
    "f_probability_1, t_probability_1, _ = roc_curve(Y_test_dataframe, probability1)\n",
    "f_probability_2, t_probability_2, _ = roc_curve(Y_test_dataframe, probability2)\n",
    "\n",
    "pyplot.plot(f_probability_1, t_probability_1, linestyle='--', label='No Skill')\n",
    "pyplot.plot(f_probability_2, t_probability_2, marker='.', label='Logistic')\n",
    "\n",
    "pyplot.xlabel('False Positive Rate')\n",
    "pyplot.ylabel('True Positive Rate')\n",
    "\n",
    "pyplot.legend()\n",
    "pyplot.show()\n"
   ]
  },
  {
   "cell_type": "code",
   "execution_count": 55,
   "metadata": {
    "execution": {
     "iopub.execute_input": "2021-05-25T18:28:47.804473Z",
     "iopub.status.busy": "2021-05-25T18:28:47.803923Z",
     "iopub.status.idle": "2021-05-25T18:36:51.063213Z",
     "shell.execute_reply": "2021-05-25T18:36:51.062343Z",
     "shell.execute_reply.started": "2021-05-25T18:28:47.804424Z"
    },
    "id": "Og-K9aqaZxjq",
    "outputId": "a823d8c2-6b5e-4b33-9bf1-fca234eebbba"
   },
   "outputs": [
    {
     "name": "stdout",
     "output_type": "stream",
     "text": [
      "No Skill: ROC AUC=0.500\n",
      "Logistic: ROC AUC=1.000\n"
     ]
    },
    {
     "data": {
      "image/png": "[encoded data removed]",
      "text/plain": [
       "<Figure size 1080x360 with 1 Axes>"
      ]
     },
     "metadata": {
      "needs_background": "light"
     },
     "output_type": "display_data"
    },
    {
     "name": "stdout",
     "output_type": "stream",
     "text": [
      "time: 8min 3s (started: 2021-05-25 18:28:47 +00:00)\n"
     ]
    }
   ],
   "source": [
    "# ROC curve for KNN Classifier\n",
    "\n",
    "\n",
    "from sklearn.metrics import roc_curve\n",
    "from sklearn.metrics import roc_auc_score\n",
    "from matplotlib import pyplot\n",
    "\n",
    "probability1 = [0 for _ in range(len(Y_test_dataframe))]\n",
    "\n",
    "probability2 = KNeighbors_Classifier.predict_proba(X_test_dataframe)\n",
    "probability2 = probability2[:, 1]\n",
    "\n",
    "auc1 = roc_auc_score(Y_test_dataframe, probability1)\n",
    "auc2 = roc_auc_score(Y_test_dataframe, probability2)\n",
    "\n",
    "print('No Skill: ROC AUC=%.3f' % (auc1))\n",
    "print('Logistic: ROC AUC=%.3f' % (auc2))\n",
    "\n",
    "f_probability_1, t_probability_1, _ = roc_curve(Y_test_dataframe, probability1)\n",
    "f_probability_2, t_probability_2, _ = roc_curve(Y_test_dataframe, probability2)\n",
    "\n",
    "pyplot.plot(f_probability_1, t_probability_1, linestyle='--', label='No Skill')\n",
    "pyplot.plot(f_probability_2, t_probability_2, marker='.', label='Logistic')\n",
    "\n",
    "pyplot.xlabel('False Positive Rate')\n",
    "pyplot.ylabel('True Positive Rate')\n",
    "\n",
    "pyplot.legend()\n",
    "pyplot.show()\n"
   ]
  },
  {
   "cell_type": "markdown",
   "metadata": {
    "id": "Krsr6JHT4u9k"
   },
   "source": [
    "# Evaluating and Testing Models "
   ]
  },
  {
   "cell_type": "code",
   "execution_count": 56,
   "metadata": {
    "execution": {
     "iopub.execute_input": "2021-05-25T18:36:59.680486Z",
     "iopub.status.busy": "2021-05-25T18:36:59.680076Z",
     "iopub.status.idle": "2021-05-25T19:28:45.375441Z",
     "shell.execute_reply": "2021-05-25T19:28:45.374514Z",
     "shell.execute_reply.started": "2021-05-25T18:36:59.680450Z"
    },
    "id": "1Qs8jRlpv_AJ",
    "outputId": "c8471b7d-9101-4596-e23e-883eb08459ce",
    "scrolled": false
   },
   "outputs": [
    {
     "name": "stdout",
     "output_type": "stream",
     "text": [
      "\n",
      "============================== Normal_DoS Random  Forest  Classifier   Model Evaluation ==============================\n",
      "\n",
      "Model Accuracy:\n",
      " 0.9999480272634127\n",
      "\n",
      "Confusion matrix:\n",
      "\n",
      " [[67341     2]\n",
      " [    5 67338]]\n",
      "\n"
     ]
    },
    {
     "data": {
      "image/png": "[encoded data removed]",
      "text/plain": [
       "<Figure size 288x288 with 1 Axes>"
      ]
     },
     "metadata": {
      "needs_background": "light"
     },
     "output_type": "display_data"
    },
    {
     "name": "stdout",
     "output_type": "stream",
     "text": [
      "\n",
      "Classification report:\n",
      "               precision    recall  f1-score   support\n",
      "\n",
      "         0.0       1.00      1.00      1.00     67343\n",
      "         1.0       1.00      1.00      1.00     67343\n",
      "\n",
      "    accuracy                           1.00    134686\n",
      "   macro avg       1.00      1.00      1.00    134686\n",
      "weighted avg       1.00      1.00      1.00    134686\n",
      "\n",
      "\n",
      "\n",
      "============================== Normal_DoS RFC and K-Neighbor Classifier Model Evaluation ==============================\n",
      "\n",
      "Model Accuracy:\n",
      " 0.9999406025867573\n",
      "\n",
      "Confusion matrix:\n",
      "\n",
      " [[67343     0]\n",
      " [    8 67335]]\n",
      "\n"
     ]
    },
    {
     "data": {
      "image/png": "[encoded data removed]",
      "text/plain": [
       "<Figure size 288x288 with 1 Axes>"
      ]
     },
     "metadata": {
      "needs_background": "light"
     },
     "output_type": "display_data"
    },
    {
     "name": "stdout",
     "output_type": "stream",
     "text": [
      "\n",
      "Classification report:\n",
      "               precision    recall  f1-score   support\n",
      "\n",
      "         0.0       1.00      1.00      1.00     67343\n",
      "         1.0       1.00      1.00      1.00     67343\n",
      "\n",
      "    accuracy                           1.00    134686\n",
      "   macro avg       1.00      1.00      1.00    134686\n",
      "weighted avg       1.00      1.00      1.00    134686\n",
      "\n",
      "\n",
      "\n",
      "============================== Normal_DoS RFC & Naive Baye Classifier Model Evaluation ==============================\n",
      "\n",
      "Model Accuracy:\n",
      " 0.9986487088487296\n",
      "\n",
      "Confusion matrix:\n",
      "\n",
      " [[67234   109]\n",
      " [   73 67270]]\n",
      "\n"
     ]
    },
    {
     "data": {
      "image/png": "[encoded data removed]",
      "text/plain": [
       "<Figure size 288x288 with 1 Axes>"
      ]
     },
     "metadata": {
      "needs_background": "light"
     },
     "output_type": "display_data"
    },
    {
     "name": "stdout",
     "output_type": "stream",
     "text": [
      "\n",
      "Classification report:\n",
      "               precision    recall  f1-score   support\n",
      "\n",
      "         0.0       1.00      1.00      1.00     67343\n",
      "         1.0       1.00      1.00      1.00     67343\n",
      "\n",
      "    accuracy                           1.00    134686\n",
      "   macro avg       1.00      1.00      1.00    134686\n",
      "weighted avg       1.00      1.00      1.00    134686\n",
      "\n",
      "\n",
      "\n",
      "============================== Normal_DoS K-Nearest Neighbor Classifier Model Evaluation ==============================\n",
      "\n",
      "Model Accuracy:\n",
      " 0.9980695840696138\n",
      "\n",
      "Confusion matrix:\n",
      "\n",
      " [[67305    38]\n",
      " [  222 67121]]\n",
      "\n"
     ]
    },
    {
     "data": {
      "image/png": "[encoded data removed]",
      "text/plain": [
       "<Figure size 288x288 with 1 Axes>"
      ]
     },
     "metadata": {
      "needs_background": "light"
     },
     "output_type": "display_data"
    },
    {
     "name": "stdout",
     "output_type": "stream",
     "text": [
      "\n",
      "Classification report:\n",
      "               precision    recall  f1-score   support\n",
      "\n",
      "         0.0       1.00      1.00      1.00     67343\n",
      "         1.0       1.00      1.00      1.00     67343\n",
      "\n",
      "    accuracy                           1.00    134686\n",
      "   macro avg       1.00      1.00      1.00    134686\n",
      "weighted avg       1.00      1.00      1.00    134686\n",
      "\n",
      "\n",
      "\n",
      "============================== Normal_DoS Support V-Machine Classifier Model Evaluation ==============================\n",
      "\n",
      "Model Accuracy:\n",
      " 0.9872889535660722\n",
      "\n",
      "Confusion matrix:\n",
      "\n",
      " [[65906  1437]\n",
      " [  275 67068]]\n",
      "\n"
     ]
    },
    {
     "data": {
      "image/png": "[encoded data removed]",
      "text/plain": [
       "<Figure size 288x288 with 1 Axes>"
      ]
     },
     "metadata": {
      "needs_background": "light"
     },
     "output_type": "display_data"
    },
    {
     "name": "stdout",
     "output_type": "stream",
     "text": [
      "\n",
      "Classification report:\n",
      "               precision    recall  f1-score   support\n",
      "\n",
      "         0.0       1.00      0.98      0.99     67343\n",
      "         1.0       0.98      1.00      0.99     67343\n",
      "\n",
      "    accuracy                           0.99    134686\n",
      "   macro avg       0.99      0.99      0.99    134686\n",
      "weighted avg       0.99      0.99      0.99    134686\n",
      "\n",
      "\n",
      "\n",
      "============================== Normal_DoS Logistic Generalized Additive Model Evaluation ==============================\n",
      "\n",
      "Model Accuracy:\n",
      " 0.9934885585732741\n",
      "\n",
      "Confusion matrix:\n",
      "\n",
      " [[67128   215]\n",
      " [  662 66681]]\n",
      "\n"
     ]
    },
    {
     "data": {
      "image/png": "[encoded data removed]",
      "text/plain": [
       "<Figure size 288x288 with 1 Axes>"
      ]
     },
     "metadata": {
      "needs_background": "light"
     },
     "output_type": "display_data"
    },
    {
     "name": "stdout",
     "output_type": "stream",
     "text": [
      "\n",
      "Classification report:\n",
      "               precision    recall  f1-score   support\n",
      "\n",
      "         0.0       0.99      1.00      0.99     67343\n",
      "         1.0       1.00      0.99      0.99     67343\n",
      "\n",
      "    accuracy                           0.99    134686\n",
      "   macro avg       0.99      0.99      0.99    134686\n",
      "weighted avg       0.99      0.99      0.99    134686\n",
      "\n",
      "\n",
      "\n",
      "============================== Normal_DoS Naive  Baye's  Classifier    Model Evaluation ==============================\n",
      "\n",
      "Model Accuracy:\n",
      " 0.9767756114221225\n",
      "\n",
      "Confusion matrix:\n",
      "\n",
      " [[65141  2202]\n",
      " [  926 66417]]\n",
      "\n"
     ]
    },
    {
     "data": {
      "image/png": "[encoded data removed]",
      "text/plain": [
       "<Figure size 288x288 with 1 Axes>"
      ]
     },
     "metadata": {
      "needs_background": "light"
     },
     "output_type": "display_data"
    },
    {
     "name": "stdout",
     "output_type": "stream",
     "text": [
      "\n",
      "Classification report:\n",
      "               precision    recall  f1-score   support\n",
      "\n",
      "         0.0       0.99      0.97      0.98     67343\n",
      "         1.0       0.97      0.99      0.98     67343\n",
      "\n",
      "    accuracy                           0.98    134686\n",
      "   macro avg       0.98      0.98      0.98    134686\n",
      "weighted avg       0.98      0.98      0.98    134686\n",
      "\n",
      "\n",
      "time: 51min 45s (started: 2021-05-25 18:36:59 +00:00)\n"
     ]
    }
   ],
   "source": [
    "from sklearn import metrics\n",
    "from mlxtend.plotting import plot_confusion_matrix\n",
    "\n",
    "classifier = []\n",
    "\n",
    "classifier.append(('Random  Forest  Classifier  ', Random_Forest_Classifier))\n",
    "classifier.append(('RFC and K-Neighbor Classifier', model_1))\n",
    "classifier.append((\"RFC & Naive Baye Classifier\", model_2))\n",
    "classifier.append(('K-Nearest Neighbor Classifier', KNeighbors_Classifier))\n",
    "classifier.append(('Support V-Machine Classifier', Support_vector_Classifier))\n",
    "classifier.append(('Logistic Generalized Additive', Logistic_gam))\n",
    "classifier.append((\"Naive  Baye's  Classifier   \", Naive_Baye_Classifier))\n",
    "\n",
    "\n",
    "for i, v in classifier:\n",
    "\n",
    "    Accuracy = metrics.accuracy_score(Y_train_dataframe, v.predict(X_train_dataframe))\n",
    "    Confusion_matrix = metrics.confusion_matrix(Y_train_dataframe, v.predict(X_train_dataframe))\n",
    "    classification = metrics.classification_report(Y_train_dataframe, v.predict(X_train_dataframe))\n",
    "    \n",
    "    print()\n",
    "    print('============================== {} {} Model Evaluation =============================='.format(group_class, i))\n",
    "    print()\n",
    "    print (\"Model Accuracy:\" \"\\n\", Accuracy)\n",
    "    print()\n",
    "    print(\"Confusion matrix:\\n\" \"\\n\", Confusion_matrix)\n",
    "    print()\n",
    "    fig, ax = plot_confusion_matrix(conf_mat=Confusion_matrix, figsize=(4, 4))\n",
    "    plt.show()\n",
    "    print()\n",
    "    print(\"Classification report:\" \"\\n\", classification) \n",
    "    print()"
   ]
  },
  {
   "cell_type": "code",
   "execution_count": 57,
   "metadata": {
    "execution": {
     "iopub.execute_input": "2021-05-25T19:30:58.651662Z",
     "iopub.status.busy": "2021-05-25T19:30:58.651286Z",
     "iopub.status.idle": "2021-05-25T19:48:18.924389Z",
     "shell.execute_reply": "2021-05-25T19:48:18.921930Z",
     "shell.execute_reply.started": "2021-05-25T19:30:58.651634Z"
    },
    "id": "du3EfbGiFHmn",
    "outputId": "f0c715ff-73ee-4988-e5bc-87d7c25a7990",
    "scrolled": true
   },
   "outputs": [
    {
     "name": "stdout",
     "output_type": "stream",
     "text": [
      "\n",
      "=================================== Model Test Results ===================================\n",
      "|                                           |                                             |\n",
      "|            MODELS                         |               ACCURACY                      |\n",
      "|          ----------                       |              ------------                   |\n",
      "|                                           |                                             |\n",
      "|    Random  Forest  Classifier   Model                 0.9999480272634127                                       \n",
      "|                                           |                                             |\n",
      "|                                           |                                             |\n",
      "|    RFC and K-Neighbor Classifier Model                 0.9999406025867573                                       \n",
      "|                                           |                                             |\n",
      "|                                           |                                             |\n",
      "|    RFC & Naive Baye Classifier Model                 0.9986487088487296                                       \n",
      "|                                           |                                             |\n",
      "|                                           |                                             |\n",
      "|    K-Nearest Neighbor Classifier Model                 0.9980695840696138                                       \n",
      "|                                           |                                             |\n",
      "|                                           |                                             |\n",
      "|    Support V-Machine Classifier Model                 0.9872889535660722                                       \n",
      "|                                           |                                             |\n",
      "|                                           |                                             |\n",
      "|    Logistic Generalized Additive Model                 0.9934885585732741                                       \n",
      "|                                           |                                             |\n",
      "|                                           |                                             |\n",
      "|    Naive  Baye's  Classifier    Model                 0.9767756114221225                                       \n",
      "|                                           |                                             |\n",
      "==========================================================================================\n",
      "time: 17min 20s (started: 2021-05-25 19:30:58 +00:00)\n"
     ]
    }
   ],
   "source": [
    "print()\n",
    "print('=================================== Model Test Results ===================================')\n",
    "print('|                                           |                                             |')\n",
    "print('|            MODELS                         |               ACCURACY                      |')\n",
    "print('|          ----------                       |              ------------                   |')\n",
    "\n",
    "for i, v in classifier:\n",
    "    Accuracy = metrics.accuracy_score(Y_test_dataframe, v.predict(X_test_dataframe))\n",
    "       \n",
    "    print('|                                           |                                             |')\n",
    "    print('|    {} Model                '.format(i), Accuracy,'                                      ')    \n",
    "    print('|                                           |                                             |')\n",
    "   \n",
    "print('==========================================================================================')"
   ]
  },
  {
   "cell_type": "code",
   "execution_count": 58,
   "metadata": {
    "execution": {
     "iopub.execute_input": "2021-05-25T19:48:43.140071Z",
     "iopub.status.busy": "2021-05-25T19:48:43.139718Z",
     "iopub.status.idle": "2021-05-25T19:48:43.155752Z",
     "shell.execute_reply": "2021-05-25T19:48:43.154803Z",
     "shell.execute_reply.started": "2021-05-25T19:48:43.140043Z"
    },
    "id": "TZfV7KrzasIe",
    "outputId": "4b545a1e-3db9-483f-e825-6246fd77b0d7",
    "scrolled": true
   },
   "outputs": [
    {
     "data": {
      "text/html": [
       "<div>\n",
       "<style scoped>\n",
       "    .dataframe tbody tr th:only-of-type {\n",
       "        vertical-align: middle;\n",
       "    }\n",
       "\n",
       "    .dataframe tbody tr th {\n",
       "        vertical-align: top;\n",
       "    }\n",
       "\n",
       "    .dataframe thead th {\n",
       "        text-align: right;\n",
       "    }\n",
       "</style>\n",
       "<table border=\"1\" class=\"dataframe\">\n",
       "  <thead>\n",
       "    <tr style=\"text-align: right;\">\n",
       "      <th></th>\n",
       "      <th>MODEL</th>\n",
       "      <th>Accuracy</th>\n",
       "      <th>Training Time</th>\n",
       "    </tr>\n",
       "  </thead>\n",
       "  <tbody>\n",
       "    <tr>\n",
       "      <th>0</th>\n",
       "      <td>Random Forest Classifier Model</td>\n",
       "      <td>0.999948</td>\n",
       "      <td>12.5 s</td>\n",
       "    </tr>\n",
       "    <tr>\n",
       "      <th>1</th>\n",
       "      <td>RFC and KNN Combined Model</td>\n",
       "      <td>0.999926</td>\n",
       "      <td>19.3 s</td>\n",
       "    </tr>\n",
       "    <tr>\n",
       "      <th>2</th>\n",
       "      <td>RFC and Naive Bayes Combined Model</td>\n",
       "      <td>0.998404</td>\n",
       "      <td>12.5 s</td>\n",
       "    </tr>\n",
       "    <tr>\n",
       "      <th>3</th>\n",
       "      <td>K-Nearest Neighbor Classifier Model</td>\n",
       "      <td>0.997758</td>\n",
       "      <td>3.35 s</td>\n",
       "    </tr>\n",
       "    <tr>\n",
       "      <th>4</th>\n",
       "      <td>Support V-Machine Classifier Model</td>\n",
       "      <td>0.989138</td>\n",
       "      <td>2min 55s</td>\n",
       "    </tr>\n",
       "    <tr>\n",
       "      <th>5</th>\n",
       "      <td>Logistic Generalized Additive Model</td>\n",
       "      <td>0.984475</td>\n",
       "      <td>36min 9s</td>\n",
       "    </tr>\n",
       "    <tr>\n",
       "      <th>6</th>\n",
       "      <td>Naive Bayes Classifier Model</td>\n",
       "      <td>0.973769</td>\n",
       "      <td>183 ms</td>\n",
       "    </tr>\n",
       "  </tbody>\n",
       "</table>\n",
       "</div>"
      ],
      "text/plain": [
       "                                 MODEL  Accuracy Training Time\n",
       "0       Random Forest Classifier Model  0.999948        12.5 s\n",
       "1           RFC and KNN Combined Model  0.999926        19.3 s\n",
       "2   RFC and Naive Bayes Combined Model  0.998404        12.5 s\n",
       "3  K-Nearest Neighbor Classifier Model  0.997758        3.35 s\n",
       "4   Support V-Machine Classifier Model  0.989138      2min 55s\n",
       "5  Logistic Generalized Additive Model  0.984475      36min 9s\n",
       "6         Naive Bayes Classifier Model  0.973769        183 ms"
      ]
     },
     "execution_count": 58,
     "metadata": {},
     "output_type": "execute_result"
    },
    {
     "name": "stdout",
     "output_type": "stream",
     "text": [
      "time: 10.6 ms (started: 2021-05-25 19:48:43 +00:00)\n"
     ]
    }
   ],
   "source": [
    "result = pd.DataFrame({'MODEL':['Random Forest Classifier Model','RFC and KNN Combined Model','RFC and Naive Bayes Combined Model','K-Nearest Neighbor Classifier Model','Support V-Machine Classifier Model','Logistic Generalized Additive Model','Naive Bayes Classifier Model'],\n",
    "                   'Accuracy':[0.9999480272634127,0.9999257532334467,0.9984036945191037,0.9977577476500898,0.9891376980532498,0.9844750011137015,0.9737686173767133],\n",
    "                   'Training Time':['12.5 s','19.3 s','12.5 s','3.35 s','2min 55s','36min 9s','183 ms']})\n",
    "\n",
    "result"
   ]
  }
 ],
 "metadata": {
  "celltoolbar": "Raw Cell Format",
  "kernelspec": {
   "display_name": "Python 3",
   "language": "python",
   "name": "python3"
  },
  "language_info": {
   "codemirror_mode": {
    "name": "ipython",
    "version": 3
   },
   "file_extension": ".py",
   "mimetype": "text/x-python",
   "name": "python",
   "nbconvert_exporter": "python",
   "pygments_lexer": "ipython3",
   "version": "3.7.10"
  }
 },
 "nbformat": 4,
 "nbformat_minor": 4
}
